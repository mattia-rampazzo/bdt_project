{
 "cells": [
  {
   "cell_type": "markdown",
   "metadata": {},
   "source": [
    "The following code blocks aim at mergin the pollen and weather data for all the municipalities and put them in a daily format"
   ]
  },
  {
   "cell_type": "code",
   "execution_count": 8,
   "metadata": {},
   "outputs": [
    {
     "name": "stdout",
     "output_type": "stream",
     "text": [
      "Number of rows in '/Users/davidegiordani/Desktop/BGTFinalCrack/TrentinoAltoAdigeZoneMapping/Final/Merged_Valleys_and_Municipalities.csv': 598\n",
      "Number of files in 'PollenTrentinoAltoAdige2024': 464\n"
     ]
    }
   ],
   "source": [
    "# Count the number of rows in the CSV file\n",
    "import pandas as pd\n",
    "import os\n",
    "\n",
    "zone_mapping_file = '/Users/davidegiordani/Desktop/BGTFinalCrack/TrentinoAltoAdigeZoneMapping/Final/Merged_Valleys_and_Municipalities.csv'\n",
    "pollen_files = [f for f in os.listdir('/Users/davidegiordani/Desktop/BGTFinalCrack/WeatherTrentinoAltoAdige2024') if f.endswith('.csv')]\n",
    "zone_mapping_df = pd.read_csv(zone_mapping_file)\n",
    "num_rows = len(zone_mapping_df)\n",
    "print(f\"Number of rows in '{zone_mapping_file}': {num_rows}\")\n",
    "\n",
    "# Count the number of files in the PollenTrentinoAltoAdige2024 folder\n",
    "num_pollen_files = len(pollen_files)\n",
    "print(f\"Number of files in 'PollenTrentinoAltoAdige2024': {num_pollen_files}\")"
   ]
  },
  {
   "cell_type": "code",
   "execution_count": 23,
   "metadata": {},
   "outputs": [
    {
     "name": "stdout",
     "output_type": "stream",
     "text": [
      "All files processed and merged successfully.\n"
     ]
    }
   ],
   "source": [
    "import os\n",
    "import pandas as pd\n",
    "\n",
    "# Directories\n",
    "weather_folder = '/Users/davidegiordani/Desktop/BGTFinalCrack/WeatherTrentinoAltoAdige2024'\n",
    "pollen_folder = '/Users/davidegiordani/Desktop/BGTFinalCrack/PollenTrentinoAltoAdige2024'\n",
    "output_folder = '/Users/davidegiordani/Desktop/BGTFinalCrack/MergedDataTrentinoAltoAdige2024'\n",
    "os.makedirs(output_folder, exist_ok=True)\n",
    "\n",
    "# Get list of files\n",
    "weather_files = [f for f in os.listdir(weather_folder) if f.endswith('_weather.csv')]\n",
    "pollen_files = [f for f in os.listdir(pollen_folder) if f.endswith('_pollen.csv')]\n",
    "\n",
    "# Extract base names without extensions\n",
    "weather_basenames = {f.replace('_weather.csv', ''): f for f in weather_files}\n",
    "pollen_basenames = {f.replace('_pollen.csv', ''): f for f in pollen_files}\n",
    "\n",
    "# Find common municipalities\n",
    "common_municipalities = set(weather_basenames.keys()) & set(pollen_basenames.keys())\n",
    "\n",
    "# Function to merge files for a municipality\n",
    "def merge_files(municipality, weather_file, pollen_file, output_file):\n",
    "    weather_path = os.path.join(weather_folder, weather_file)\n",
    "    pollen_path = os.path.join(pollen_folder, pollen_file)\n",
    "\n",
    "    # Load datasets\n",
    "    weather_data = pd.read_csv(weather_path)\n",
    "    pollen_data = pd.read_csv(pollen_path)\n",
    "\n",
    "    # Parse time column\n",
    "    weather_data['time'] = pd.to_datetime(weather_data['time'], errors='coerce')\n",
    "    pollen_data['time'] = pd.to_datetime(pollen_data['time'], errors='coerce')\n",
    "\n",
    "    # Merge datasets on time\n",
    "    merged_data = pd.merge(weather_data, pollen_data, on='time', how='inner')\n",
    "\n",
    "    # Save to output file\n",
    "    merged_data.to_csv(output_file, index=False)\n",
    "\n",
    "# Merge files for each municipality\n",
    "for municipality in common_municipalities:\n",
    "    weather_file = weather_basenames[municipality]\n",
    "    pollen_file = pollen_basenames[municipality]\n",
    "    output_file = os.path.join(output_folder, f\"{municipality}_data.csv\")\n",
    "\n",
    "    merge_files(municipality, weather_file, pollen_file, output_file)\n",
    "\n",
    "print(\"All files processed and merged successfully.\")\n"
   ]
  },
  {
   "cell_type": "code",
   "execution_count": 28,
   "metadata": {},
   "outputs": [
    {
     "name": "stdout",
     "output_type": "stream",
     "text": [
      "Daily averages computed and saved for all municipalities.\n"
     ]
    }
   ],
   "source": [
    "import os\n",
    "import pandas as pd\n",
    "import numpy as np\n",
    "\n",
    "# Directories\n",
    "merged_data_folder = '/Users/davidegiordani/Desktop/BGTFinalCrack/MergedDataTrentinoAltoAdige2024'\n",
    "daily_data_folder = '/Users/davidegiordani/Desktop/BGTFinalCrack/MergedDataTrentinoAltoAdige2024/Daily'\n",
    "os.makedirs(daily_data_folder, exist_ok=True)\n",
    "\n",
    "# Function to compute daily averages for a municipality\n",
    "def compute_daily_averages(file_path, output_path):\n",
    "    # Load data\n",
    "    data = pd.read_csv(file_path)\n",
    "\n",
    "    # Ensure 'time' is parsed correctly\n",
    "    data['time'] = pd.to_datetime(data['time'], errors='coerce')\n",
    "\n",
    "    # Add a 'date' column for grouping\n",
    "    data['date'] = data['time'].dt.date\n",
    "\n",
    "    # Initialize list for daily data\n",
    "    daily_records = []\n",
    "\n",
    "    # Group by date\n",
    "    for date, group in data.groupby('date'):\n",
    "        daily_record = {'date': date}\n",
    "\n",
    "        for column in group.select_dtypes(include=['float64', 'int64']).columns:\n",
    "            non_nan_count = group[column].notna().sum()\n",
    "            total_count = len(group[column])\n",
    "\n",
    "            if non_nan_count >= total_count / 2:\n",
    "                daily_record[column] = group[column].mean()\n",
    "            else:\n",
    "                daily_record[column] = np.nan\n",
    "\n",
    "        daily_records.append(daily_record)\n",
    "\n",
    "    # Create DataFrame for daily averages\n",
    "    daily_data = pd.DataFrame(daily_records)\n",
    "\n",
    "    # Save the daily-averaged data\n",
    "    daily_data.to_csv(output_path, index=False)\n",
    "\n",
    "# Process all municipality files\n",
    "municipality_files = [f for f in os.listdir(merged_data_folder) if f.endswith('_data.csv')]\n",
    "\n",
    "for municipality_file in municipality_files:\n",
    "    file_path = os.path.join(merged_data_folder, municipality_file)\n",
    "    output_path = os.path.join(daily_data_folder, municipality_file)\n",
    "\n",
    "    compute_daily_averages(file_path, output_path)\n",
    "\n",
    "print(\"Daily averages computed and saved for all municipalities.\")\n"
   ]
  },
  {
   "cell_type": "code",
   "execution_count": 32,
   "metadata": {},
   "outputs": [
    {
     "name": "stdout",
     "output_type": "stream",
     "text": [
      "Municipality files organized into valley folders.\n"
     ]
    }
   ],
   "source": [
    "import os\n",
    "import pandas as pd\n",
    "\n",
    "# Directories\n",
    "daily_data_folder = '/Users/davidegiordani/Desktop/BGTFinalCrack/MergedDataTrentinoAltoAdige2024/Daily'\n",
    "valleys_data_folder = '/Users/davidegiordani/Desktop/BGTFinalCrack/MergedDataTrentinoAltoAdige2024/Valleys'\n",
    "os.makedirs(valleys_data_folder, exist_ok=True)\n",
    "\n",
    "# Load valley-municipality mapping\n",
    "mapping_file_path = '/Users/davidegiordani/Desktop/BGTFinalCrack/TrentinoAltoAdigeZoneMapping/Final/Merged_Valleys_and_Municipalities.csv'\n",
    "mapping_data = pd.read_csv(mapping_file_path)\n",
    "\n",
    "# Create a dictionary mapping municipalities to valleys\n",
    "municipality_to_valley = mapping_data.set_index('normalized_municipality')['valley'].to_dict()\n",
    "\n",
    "# Process all municipality files\n",
    "municipality_files = [f for f in os.listdir(daily_data_folder) if f.endswith('_data.csv')]\n",
    "\n",
    "for municipality_file in municipality_files:\n",
    "    municipality_name = municipality_file.replace('_data.csv', '')\n",
    "    valley_name = municipality_to_valley.get(municipality_name)\n",
    "\n",
    "    if valley_name:\n",
    "        # Create valley folder if it doesn't exist\n",
    "        valley_folder = os.path.join(valleys_data_folder, valley_name)\n",
    "        os.makedirs(valley_folder, exist_ok=True)\n",
    "\n",
    "        # Move municipality file to the valley folder\n",
    "        source_path = os.path.join(daily_data_folder, municipality_file)\n",
    "        destination_path = os.path.join(valley_folder, municipality_file)\n",
    "        os.rename(source_path, destination_path)\n",
    "\n",
    "print(\"Municipality files organized into valley folders.\")"
   ]
  },
  {
   "cell_type": "code",
   "execution_count": 42,
   "metadata": {},
   "outputs": [
    {
     "name": "stdout",
     "output_type": "stream",
     "text": [
      "Processing valley: Val Venosta\n"
     ]
    },
    {
     "name": "stderr",
     "output_type": "stream",
     "text": [
      "/var/folders/q2/9lh55t_s1k56_qhpfd2m00f80000gn/T/ipykernel_921/3166904741.py:47: FutureWarning: Series.fillna with 'method' is deprecated and will raise in a future version. Use obj.ffill() or obj.bfill() instead.\n",
      "  merged_data[pollen_type] = merged_data[pollen_type].interpolate().fillna(method='bfill').fillna(method='ffill')\n"
     ]
    },
    {
     "name": "stdout",
     "output_type": "stream",
     "text": [
      "Alder pollen (grains/m³) - RMSE: 0.25, MAE: 0.05, R2: 0.99\n"
     ]
    },
    {
     "name": "stderr",
     "output_type": "stream",
     "text": [
      "/var/folders/q2/9lh55t_s1k56_qhpfd2m00f80000gn/T/ipykernel_921/3166904741.py:47: FutureWarning: Series.fillna with 'method' is deprecated and will raise in a future version. Use obj.ffill() or obj.bfill() instead.\n",
      "  merged_data[pollen_type] = merged_data[pollen_type].interpolate().fillna(method='bfill').fillna(method='ffill')\n"
     ]
    },
    {
     "name": "stdout",
     "output_type": "stream",
     "text": [
      "Birch pollen (grains/m³) - RMSE: 2.68, MAE: 0.93, R2: 0.89\n"
     ]
    },
    {
     "name": "stderr",
     "output_type": "stream",
     "text": [
      "/var/folders/q2/9lh55t_s1k56_qhpfd2m00f80000gn/T/ipykernel_921/3166904741.py:47: FutureWarning: Series.fillna with 'method' is deprecated and will raise in a future version. Use obj.ffill() or obj.bfill() instead.\n",
      "  merged_data[pollen_type] = merged_data[pollen_type].interpolate().fillna(method='bfill').fillna(method='ffill')\n"
     ]
    },
    {
     "name": "stdout",
     "output_type": "stream",
     "text": [
      "Grass pollen (grains/m³) - RMSE: 3.68, MAE: 1.13, R2: 0.93\n",
      "Mugwort pollen (grains/m³) - RMSE: 0.00, MAE: 0.00, R2: -0.50\n"
     ]
    },
    {
     "name": "stderr",
     "output_type": "stream",
     "text": [
      "/var/folders/q2/9lh55t_s1k56_qhpfd2m00f80000gn/T/ipykernel_921/3166904741.py:47: FutureWarning: Series.fillna with 'method' is deprecated and will raise in a future version. Use obj.ffill() or obj.bfill() instead.\n",
      "  merged_data[pollen_type] = merged_data[pollen_type].interpolate().fillna(method='bfill').fillna(method='ffill')\n",
      "/var/folders/q2/9lh55t_s1k56_qhpfd2m00f80000gn/T/ipykernel_921/3166904741.py:47: FutureWarning: Series.fillna with 'method' is deprecated and will raise in a future version. Use obj.ffill() or obj.bfill() instead.\n",
      "  merged_data[pollen_type] = merged_data[pollen_type].interpolate().fillna(method='bfill').fillna(method='ffill')\n"
     ]
    },
    {
     "name": "stdout",
     "output_type": "stream",
     "text": [
      "Olive pollen (grains/m³) - RMSE: 0.07, MAE: 0.01, R2: 0.90\n"
     ]
    },
    {
     "name": "stderr",
     "output_type": "stream",
     "text": [
      "/var/folders/q2/9lh55t_s1k56_qhpfd2m00f80000gn/T/ipykernel_921/3166904741.py:47: FutureWarning: Series.fillna with 'method' is deprecated and will raise in a future version. Use obj.ffill() or obj.bfill() instead.\n",
      "  merged_data[pollen_type] = merged_data[pollen_type].interpolate().fillna(method='bfill').fillna(method='ffill')\n"
     ]
    },
    {
     "name": "stdout",
     "output_type": "stream",
     "text": [
      "Ragweed pollen (grains/m³) - RMSE: 0.03, MAE: 0.00, R2: 0.95\n",
      "Models and results saved for valley: Val Venosta and copied to ValleysModels\n",
      "Processing valley: Val di Non\n"
     ]
    },
    {
     "name": "stderr",
     "output_type": "stream",
     "text": [
      "/var/folders/q2/9lh55t_s1k56_qhpfd2m00f80000gn/T/ipykernel_921/3166904741.py:47: FutureWarning: Series.fillna with 'method' is deprecated and will raise in a future version. Use obj.ffill() or obj.bfill() instead.\n",
      "  merged_data[pollen_type] = merged_data[pollen_type].interpolate().fillna(method='bfill').fillna(method='ffill')\n"
     ]
    },
    {
     "name": "stdout",
     "output_type": "stream",
     "text": [
      "Alder pollen (grains/m³) - RMSE: 0.95, MAE: 0.12, R2: 0.89\n"
     ]
    },
    {
     "name": "stderr",
     "output_type": "stream",
     "text": [
      "/var/folders/q2/9lh55t_s1k56_qhpfd2m00f80000gn/T/ipykernel_921/3166904741.py:47: FutureWarning: Series.fillna with 'method' is deprecated and will raise in a future version. Use obj.ffill() or obj.bfill() instead.\n",
      "  merged_data[pollen_type] = merged_data[pollen_type].interpolate().fillna(method='bfill').fillna(method='ffill')\n"
     ]
    },
    {
     "name": "stdout",
     "output_type": "stream",
     "text": [
      "Birch pollen (grains/m³) - RMSE: 3.35, MAE: 0.72, R2: 0.99\n"
     ]
    },
    {
     "name": "stderr",
     "output_type": "stream",
     "text": [
      "/var/folders/q2/9lh55t_s1k56_qhpfd2m00f80000gn/T/ipykernel_921/3166904741.py:47: FutureWarning: Series.fillna with 'method' is deprecated and will raise in a future version. Use obj.ffill() or obj.bfill() instead.\n",
      "  merged_data[pollen_type] = merged_data[pollen_type].interpolate().fillna(method='bfill').fillna(method='ffill')\n"
     ]
    },
    {
     "name": "stdout",
     "output_type": "stream",
     "text": [
      "Grass pollen (grains/m³) - RMSE: 1.18, MAE: 0.32, R2: 0.99\n",
      "Mugwort pollen (grains/m³) - RMSE: 0.00, MAE: 0.00, R2: 1.00\n"
     ]
    },
    {
     "name": "stderr",
     "output_type": "stream",
     "text": [
      "/var/folders/q2/9lh55t_s1k56_qhpfd2m00f80000gn/T/ipykernel_921/3166904741.py:47: FutureWarning: Series.fillna with 'method' is deprecated and will raise in a future version. Use obj.ffill() or obj.bfill() instead.\n",
      "  merged_data[pollen_type] = merged_data[pollen_type].interpolate().fillna(method='bfill').fillna(method='ffill')\n",
      "/var/folders/q2/9lh55t_s1k56_qhpfd2m00f80000gn/T/ipykernel_921/3166904741.py:47: FutureWarning: Series.fillna with 'method' is deprecated and will raise in a future version. Use obj.ffill() or obj.bfill() instead.\n",
      "  merged_data[pollen_type] = merged_data[pollen_type].interpolate().fillna(method='bfill').fillna(method='ffill')\n"
     ]
    },
    {
     "name": "stdout",
     "output_type": "stream",
     "text": [
      "Olive pollen (grains/m³) - RMSE: 0.10, MAE: 0.01, R2: 1.00\n"
     ]
    },
    {
     "name": "stderr",
     "output_type": "stream",
     "text": [
      "/var/folders/q2/9lh55t_s1k56_qhpfd2m00f80000gn/T/ipykernel_921/3166904741.py:47: FutureWarning: Series.fillna with 'method' is deprecated and will raise in a future version. Use obj.ffill() or obj.bfill() instead.\n",
      "  merged_data[pollen_type] = merged_data[pollen_type].interpolate().fillna(method='bfill').fillna(method='ffill')\n"
     ]
    },
    {
     "name": "stdout",
     "output_type": "stream",
     "text": [
      "Ragweed pollen (grains/m³) - RMSE: 0.05, MAE: 0.01, R2: 0.97\n",
      "Models and results saved for valley: Val di Non and copied to ValleysModels\n",
      "Processing valley: Burgraviato\n"
     ]
    },
    {
     "name": "stderr",
     "output_type": "stream",
     "text": [
      "/var/folders/q2/9lh55t_s1k56_qhpfd2m00f80000gn/T/ipykernel_921/3166904741.py:47: FutureWarning: Series.fillna with 'method' is deprecated and will raise in a future version. Use obj.ffill() or obj.bfill() instead.\n",
      "  merged_data[pollen_type] = merged_data[pollen_type].interpolate().fillna(method='bfill').fillna(method='ffill')\n",
      "/var/folders/q2/9lh55t_s1k56_qhpfd2m00f80000gn/T/ipykernel_921/3166904741.py:47: FutureWarning: Series.fillna with 'method' is deprecated and will raise in a future version. Use obj.ffill() or obj.bfill() instead.\n",
      "  merged_data[pollen_type] = merged_data[pollen_type].interpolate().fillna(method='bfill').fillna(method='ffill')\n"
     ]
    },
    {
     "name": "stdout",
     "output_type": "stream",
     "text": [
      "Alder pollen (grains/m³) - RMSE: 0.22, MAE: 0.06, R2: 0.93\n",
      "Birch pollen (grains/m³) - RMSE: 3.26, MAE: 1.30, R2: 0.90\n"
     ]
    },
    {
     "name": "stderr",
     "output_type": "stream",
     "text": [
      "/var/folders/q2/9lh55t_s1k56_qhpfd2m00f80000gn/T/ipykernel_921/3166904741.py:47: FutureWarning: Series.fillna with 'method' is deprecated and will raise in a future version. Use obj.ffill() or obj.bfill() instead.\n",
      "  merged_data[pollen_type] = merged_data[pollen_type].interpolate().fillna(method='bfill').fillna(method='ffill')\n",
      "/var/folders/q2/9lh55t_s1k56_qhpfd2m00f80000gn/T/ipykernel_921/3166904741.py:47: FutureWarning: Series.fillna with 'method' is deprecated and will raise in a future version. Use obj.ffill() or obj.bfill() instead.\n",
      "  merged_data[pollen_type] = merged_data[pollen_type].interpolate().fillna(method='bfill').fillna(method='ffill')\n"
     ]
    },
    {
     "name": "stdout",
     "output_type": "stream",
     "text": [
      "Grass pollen (grains/m³) - RMSE: 2.34, MAE: 0.95, R2: 0.98\n",
      "Mugwort pollen (grains/m³) - RMSE: 0.00, MAE: 0.00, R2: 0.79\n"
     ]
    },
    {
     "name": "stderr",
     "output_type": "stream",
     "text": [
      "/var/folders/q2/9lh55t_s1k56_qhpfd2m00f80000gn/T/ipykernel_921/3166904741.py:47: FutureWarning: Series.fillna with 'method' is deprecated and will raise in a future version. Use obj.ffill() or obj.bfill() instead.\n",
      "  merged_data[pollen_type] = merged_data[pollen_type].interpolate().fillna(method='bfill').fillna(method='ffill')\n"
     ]
    },
    {
     "name": "stdout",
     "output_type": "stream",
     "text": [
      "Olive pollen (grains/m³) - RMSE: 0.08, MAE: 0.02, R2: 0.95\n"
     ]
    },
    {
     "name": "stderr",
     "output_type": "stream",
     "text": [
      "/var/folders/q2/9lh55t_s1k56_qhpfd2m00f80000gn/T/ipykernel_921/3166904741.py:47: FutureWarning: Series.fillna with 'method' is deprecated and will raise in a future version. Use obj.ffill() or obj.bfill() instead.\n",
      "  merged_data[pollen_type] = merged_data[pollen_type].interpolate().fillna(method='bfill').fillna(method='ffill')\n"
     ]
    },
    {
     "name": "stdout",
     "output_type": "stream",
     "text": [
      "Ragweed pollen (grains/m³) - RMSE: 0.02, MAE: 0.00, R2: 0.97\n",
      "Models and results saved for valley: Burgraviato and copied to ValleysModels\n",
      "Processing valley: Val Badia\n"
     ]
    },
    {
     "name": "stderr",
     "output_type": "stream",
     "text": [
      "/var/folders/q2/9lh55t_s1k56_qhpfd2m00f80000gn/T/ipykernel_921/3166904741.py:47: FutureWarning: Series.fillna with 'method' is deprecated and will raise in a future version. Use obj.ffill() or obj.bfill() instead.\n",
      "  merged_data[pollen_type] = merged_data[pollen_type].interpolate().fillna(method='bfill').fillna(method='ffill')\n"
     ]
    },
    {
     "name": "stdout",
     "output_type": "stream",
     "text": [
      "Alder pollen (grains/m³) - RMSE: 0.34, MAE: 0.06, R2: 0.88\n"
     ]
    },
    {
     "name": "stderr",
     "output_type": "stream",
     "text": [
      "/var/folders/q2/9lh55t_s1k56_qhpfd2m00f80000gn/T/ipykernel_921/3166904741.py:47: FutureWarning: Series.fillna with 'method' is deprecated and will raise in a future version. Use obj.ffill() or obj.bfill() instead.\n",
      "  merged_data[pollen_type] = merged_data[pollen_type].interpolate().fillna(method='bfill').fillna(method='ffill')\n"
     ]
    },
    {
     "name": "stdout",
     "output_type": "stream",
     "text": [
      "Birch pollen (grains/m³) - RMSE: 2.12, MAE: 0.77, R2: 0.96\n"
     ]
    },
    {
     "name": "stderr",
     "output_type": "stream",
     "text": [
      "/var/folders/q2/9lh55t_s1k56_qhpfd2m00f80000gn/T/ipykernel_921/3166904741.py:47: FutureWarning: Series.fillna with 'method' is deprecated and will raise in a future version. Use obj.ffill() or obj.bfill() instead.\n",
      "  merged_data[pollen_type] = merged_data[pollen_type].interpolate().fillna(method='bfill').fillna(method='ffill')\n"
     ]
    },
    {
     "name": "stdout",
     "output_type": "stream",
     "text": [
      "Grass pollen (grains/m³) - RMSE: 2.30, MAE: 0.82, R2: 0.97\n",
      "Mugwort pollen (grains/m³) - RMSE: 0.00, MAE: 0.00, R2: 0.71\n"
     ]
    },
    {
     "name": "stderr",
     "output_type": "stream",
     "text": [
      "/var/folders/q2/9lh55t_s1k56_qhpfd2m00f80000gn/T/ipykernel_921/3166904741.py:47: FutureWarning: Series.fillna with 'method' is deprecated and will raise in a future version. Use obj.ffill() or obj.bfill() instead.\n",
      "  merged_data[pollen_type] = merged_data[pollen_type].interpolate().fillna(method='bfill').fillna(method='ffill')\n",
      "/var/folders/q2/9lh55t_s1k56_qhpfd2m00f80000gn/T/ipykernel_921/3166904741.py:47: FutureWarning: Series.fillna with 'method' is deprecated and will raise in a future version. Use obj.ffill() or obj.bfill() instead.\n",
      "  merged_data[pollen_type] = merged_data[pollen_type].interpolate().fillna(method='bfill').fillna(method='ffill')\n"
     ]
    },
    {
     "name": "stdout",
     "output_type": "stream",
     "text": [
      "Olive pollen (grains/m³) - RMSE: 0.06, MAE: 0.01, R2: 0.95\n"
     ]
    },
    {
     "name": "stderr",
     "output_type": "stream",
     "text": [
      "/var/folders/q2/9lh55t_s1k56_qhpfd2m00f80000gn/T/ipykernel_921/3166904741.py:47: FutureWarning: Series.fillna with 'method' is deprecated and will raise in a future version. Use obj.ffill() or obj.bfill() instead.\n",
      "  merged_data[pollen_type] = merged_data[pollen_type].interpolate().fillna(method='bfill').fillna(method='ffill')\n"
     ]
    },
    {
     "name": "stdout",
     "output_type": "stream",
     "text": [
      "Ragweed pollen (grains/m³) - RMSE: 0.04, MAE: 0.01, R2: 0.96\n",
      "Models and results saved for valley: Val Badia and copied to ValleysModels\n",
      "Processing valley: Valle di Cembra\n"
     ]
    },
    {
     "name": "stderr",
     "output_type": "stream",
     "text": [
      "/var/folders/q2/9lh55t_s1k56_qhpfd2m00f80000gn/T/ipykernel_921/3166904741.py:47: FutureWarning: Series.fillna with 'method' is deprecated and will raise in a future version. Use obj.ffill() or obj.bfill() instead.\n",
      "  merged_data[pollen_type] = merged_data[pollen_type].interpolate().fillna(method='bfill').fillna(method='ffill')\n"
     ]
    },
    {
     "name": "stdout",
     "output_type": "stream",
     "text": [
      "Alder pollen (grains/m³) - RMSE: 2.85, MAE: 0.62, R2: 0.81\n"
     ]
    },
    {
     "name": "stderr",
     "output_type": "stream",
     "text": [
      "/var/folders/q2/9lh55t_s1k56_qhpfd2m00f80000gn/T/ipykernel_921/3166904741.py:47: FutureWarning: Series.fillna with 'method' is deprecated and will raise in a future version. Use obj.ffill() or obj.bfill() instead.\n",
      "  merged_data[pollen_type] = merged_data[pollen_type].interpolate().fillna(method='bfill').fillna(method='ffill')\n"
     ]
    },
    {
     "name": "stdout",
     "output_type": "stream",
     "text": [
      "Birch pollen (grains/m³) - RMSE: 18.61, MAE: 2.83, R2: 0.84\n"
     ]
    },
    {
     "name": "stderr",
     "output_type": "stream",
     "text": [
      "/var/folders/q2/9lh55t_s1k56_qhpfd2m00f80000gn/T/ipykernel_921/3166904741.py:47: FutureWarning: Series.fillna with 'method' is deprecated and will raise in a future version. Use obj.ffill() or obj.bfill() instead.\n",
      "  merged_data[pollen_type] = merged_data[pollen_type].interpolate().fillna(method='bfill').fillna(method='ffill')\n"
     ]
    },
    {
     "name": "stdout",
     "output_type": "stream",
     "text": [
      "Grass pollen (grains/m³) - RMSE: 2.30, MAE: 0.98, R2: 0.94\n",
      "Mugwort pollen (grains/m³) - RMSE: 0.00, MAE: 0.00, R2: -0.27\n"
     ]
    },
    {
     "name": "stderr",
     "output_type": "stream",
     "text": [
      "/var/folders/q2/9lh55t_s1k56_qhpfd2m00f80000gn/T/ipykernel_921/3166904741.py:47: FutureWarning: Series.fillna with 'method' is deprecated and will raise in a future version. Use obj.ffill() or obj.bfill() instead.\n",
      "  merged_data[pollen_type] = merged_data[pollen_type].interpolate().fillna(method='bfill').fillna(method='ffill')\n",
      "/var/folders/q2/9lh55t_s1k56_qhpfd2m00f80000gn/T/ipykernel_921/3166904741.py:47: FutureWarning: Series.fillna with 'method' is deprecated and will raise in a future version. Use obj.ffill() or obj.bfill() instead.\n",
      "  merged_data[pollen_type] = merged_data[pollen_type].interpolate().fillna(method='bfill').fillna(method='ffill')\n"
     ]
    },
    {
     "name": "stdout",
     "output_type": "stream",
     "text": [
      "Olive pollen (grains/m³) - RMSE: 0.19, MAE: 0.04, R2: 0.91\n"
     ]
    },
    {
     "name": "stderr",
     "output_type": "stream",
     "text": [
      "/var/folders/q2/9lh55t_s1k56_qhpfd2m00f80000gn/T/ipykernel_921/3166904741.py:47: FutureWarning: Series.fillna with 'method' is deprecated and will raise in a future version. Use obj.ffill() or obj.bfill() instead.\n",
      "  merged_data[pollen_type] = merged_data[pollen_type].interpolate().fillna(method='bfill').fillna(method='ffill')\n"
     ]
    },
    {
     "name": "stdout",
     "output_type": "stream",
     "text": [
      "Ragweed pollen (grains/m³) - RMSE: 0.27, MAE: 0.05, R2: 0.88\n",
      "Models and results saved for valley: Valle di Cembra and copied to ValleysModels\n",
      "Processing valley: Val Pusteria\n"
     ]
    },
    {
     "name": "stderr",
     "output_type": "stream",
     "text": [
      "/var/folders/q2/9lh55t_s1k56_qhpfd2m00f80000gn/T/ipykernel_921/3166904741.py:47: FutureWarning: Series.fillna with 'method' is deprecated and will raise in a future version. Use obj.ffill() or obj.bfill() instead.\n",
      "  merged_data[pollen_type] = merged_data[pollen_type].interpolate().fillna(method='bfill').fillna(method='ffill')\n"
     ]
    },
    {
     "name": "stdout",
     "output_type": "stream",
     "text": [
      "Alder pollen (grains/m³) - RMSE: 0.12, MAE: 0.03, R2: 0.86\n"
     ]
    },
    {
     "name": "stderr",
     "output_type": "stream",
     "text": [
      "/var/folders/q2/9lh55t_s1k56_qhpfd2m00f80000gn/T/ipykernel_921/3166904741.py:47: FutureWarning: Series.fillna with 'method' is deprecated and will raise in a future version. Use obj.ffill() or obj.bfill() instead.\n",
      "  merged_data[pollen_type] = merged_data[pollen_type].interpolate().fillna(method='bfill').fillna(method='ffill')\n"
     ]
    },
    {
     "name": "stdout",
     "output_type": "stream",
     "text": [
      "Birch pollen (grains/m³) - RMSE: 2.66, MAE: 0.99, R2: 0.91\n"
     ]
    },
    {
     "name": "stderr",
     "output_type": "stream",
     "text": [
      "/var/folders/q2/9lh55t_s1k56_qhpfd2m00f80000gn/T/ipykernel_921/3166904741.py:47: FutureWarning: Series.fillna with 'method' is deprecated and will raise in a future version. Use obj.ffill() or obj.bfill() instead.\n",
      "  merged_data[pollen_type] = merged_data[pollen_type].interpolate().fillna(method='bfill').fillna(method='ffill')\n"
     ]
    },
    {
     "name": "stdout",
     "output_type": "stream",
     "text": [
      "Grass pollen (grains/m³) - RMSE: 2.19, MAE: 0.78, R2: 0.97\n"
     ]
    },
    {
     "name": "stderr",
     "output_type": "stream",
     "text": [
      "/var/folders/q2/9lh55t_s1k56_qhpfd2m00f80000gn/T/ipykernel_921/3166904741.py:47: FutureWarning: Series.fillna with 'method' is deprecated and will raise in a future version. Use obj.ffill() or obj.bfill() instead.\n",
      "  merged_data[pollen_type] = merged_data[pollen_type].interpolate().fillna(method='bfill').fillna(method='ffill')\n"
     ]
    },
    {
     "name": "stdout",
     "output_type": "stream",
     "text": [
      "Mugwort pollen (grains/m³) - RMSE: 0.00, MAE: 0.00, R2: 0.61\n"
     ]
    },
    {
     "name": "stderr",
     "output_type": "stream",
     "text": [
      "/var/folders/q2/9lh55t_s1k56_qhpfd2m00f80000gn/T/ipykernel_921/3166904741.py:47: FutureWarning: Series.fillna with 'method' is deprecated and will raise in a future version. Use obj.ffill() or obj.bfill() instead.\n",
      "  merged_data[pollen_type] = merged_data[pollen_type].interpolate().fillna(method='bfill').fillna(method='ffill')\n"
     ]
    },
    {
     "name": "stdout",
     "output_type": "stream",
     "text": [
      "Olive pollen (grains/m³) - RMSE: 0.07, MAE: 0.01, R2: 0.90\n"
     ]
    },
    {
     "name": "stderr",
     "output_type": "stream",
     "text": [
      "/var/folders/q2/9lh55t_s1k56_qhpfd2m00f80000gn/T/ipykernel_921/3166904741.py:47: FutureWarning: Series.fillna with 'method' is deprecated and will raise in a future version. Use obj.ffill() or obj.bfill() instead.\n",
      "  merged_data[pollen_type] = merged_data[pollen_type].interpolate().fillna(method='bfill').fillna(method='ffill')\n"
     ]
    },
    {
     "name": "stdout",
     "output_type": "stream",
     "text": [
      "Ragweed pollen (grains/m³) - RMSE: 0.04, MAE: 0.01, R2: 0.96\n",
      "Models and results saved for valley: Val Pusteria and copied to ValleysModels\n",
      "Processing valley: Valli Giudicarie\n"
     ]
    },
    {
     "name": "stderr",
     "output_type": "stream",
     "text": [
      "/var/folders/q2/9lh55t_s1k56_qhpfd2m00f80000gn/T/ipykernel_921/3166904741.py:47: FutureWarning: Series.fillna with 'method' is deprecated and will raise in a future version. Use obj.ffill() or obj.bfill() instead.\n",
      "  merged_data[pollen_type] = merged_data[pollen_type].interpolate().fillna(method='bfill').fillna(method='ffill')\n"
     ]
    },
    {
     "name": "stdout",
     "output_type": "stream",
     "text": [
      "Alder pollen (grains/m³) - RMSE: 3.27, MAE: 0.77, R2: 0.54\n"
     ]
    },
    {
     "name": "stderr",
     "output_type": "stream",
     "text": [
      "/var/folders/q2/9lh55t_s1k56_qhpfd2m00f80000gn/T/ipykernel_921/3166904741.py:47: FutureWarning: Series.fillna with 'method' is deprecated and will raise in a future version. Use obj.ffill() or obj.bfill() instead.\n",
      "  merged_data[pollen_type] = merged_data[pollen_type].interpolate().fillna(method='bfill').fillna(method='ffill')\n"
     ]
    },
    {
     "name": "stdout",
     "output_type": "stream",
     "text": [
      "Birch pollen (grains/m³) - RMSE: 6.90, MAE: 2.41, R2: 0.78\n"
     ]
    },
    {
     "name": "stderr",
     "output_type": "stream",
     "text": [
      "/var/folders/q2/9lh55t_s1k56_qhpfd2m00f80000gn/T/ipykernel_921/3166904741.py:47: FutureWarning: Series.fillna with 'method' is deprecated and will raise in a future version. Use obj.ffill() or obj.bfill() instead.\n",
      "  merged_data[pollen_type] = merged_data[pollen_type].interpolate().fillna(method='bfill').fillna(method='ffill')\n"
     ]
    },
    {
     "name": "stdout",
     "output_type": "stream",
     "text": [
      "Grass pollen (grains/m³) - RMSE: 2.56, MAE: 1.10, R2: 0.93\n",
      "Mugwort pollen (grains/m³) - RMSE: 0.00, MAE: 0.00, R2: 1.00\n"
     ]
    },
    {
     "name": "stderr",
     "output_type": "stream",
     "text": [
      "/var/folders/q2/9lh55t_s1k56_qhpfd2m00f80000gn/T/ipykernel_921/3166904741.py:47: FutureWarning: Series.fillna with 'method' is deprecated and will raise in a future version. Use obj.ffill() or obj.bfill() instead.\n",
      "  merged_data[pollen_type] = merged_data[pollen_type].interpolate().fillna(method='bfill').fillna(method='ffill')\n",
      "/var/folders/q2/9lh55t_s1k56_qhpfd2m00f80000gn/T/ipykernel_921/3166904741.py:47: FutureWarning: Series.fillna with 'method' is deprecated and will raise in a future version. Use obj.ffill() or obj.bfill() instead.\n",
      "  merged_data[pollen_type] = merged_data[pollen_type].interpolate().fillna(method='bfill').fillna(method='ffill')\n"
     ]
    },
    {
     "name": "stdout",
     "output_type": "stream",
     "text": [
      "Olive pollen (grains/m³) - RMSE: 0.22, MAE: 0.06, R2: 0.71\n"
     ]
    },
    {
     "name": "stderr",
     "output_type": "stream",
     "text": [
      "/var/folders/q2/9lh55t_s1k56_qhpfd2m00f80000gn/T/ipykernel_921/3166904741.py:47: FutureWarning: Series.fillna with 'method' is deprecated and will raise in a future version. Use obj.ffill() or obj.bfill() instead.\n",
      "  merged_data[pollen_type] = merged_data[pollen_type].interpolate().fillna(method='bfill').fillna(method='ffill')\n"
     ]
    },
    {
     "name": "stdout",
     "output_type": "stream",
     "text": [
      "Ragweed pollen (grains/m³) - RMSE: 0.30, MAE: 0.05, R2: 0.76\n",
      "Models and results saved for valley: Valli Giudicarie and copied to ValleysModels\n",
      "Processing valley: Alta Valsugana\n"
     ]
    },
    {
     "name": "stderr",
     "output_type": "stream",
     "text": [
      "/var/folders/q2/9lh55t_s1k56_qhpfd2m00f80000gn/T/ipykernel_921/3166904741.py:47: FutureWarning: Series.fillna with 'method' is deprecated and will raise in a future version. Use obj.ffill() or obj.bfill() instead.\n",
      "  merged_data[pollen_type] = merged_data[pollen_type].interpolate().fillna(method='bfill').fillna(method='ffill')\n"
     ]
    },
    {
     "name": "stdout",
     "output_type": "stream",
     "text": [
      "Alder pollen (grains/m³) - RMSE: 2.22, MAE: 0.73, R2: 0.81\n"
     ]
    },
    {
     "name": "stderr",
     "output_type": "stream",
     "text": [
      "/var/folders/q2/9lh55t_s1k56_qhpfd2m00f80000gn/T/ipykernel_921/3166904741.py:47: FutureWarning: Series.fillna with 'method' is deprecated and will raise in a future version. Use obj.ffill() or obj.bfill() instead.\n",
      "  merged_data[pollen_type] = merged_data[pollen_type].interpolate().fillna(method='bfill').fillna(method='ffill')\n"
     ]
    },
    {
     "name": "stdout",
     "output_type": "stream",
     "text": [
      "Birch pollen (grains/m³) - RMSE: 7.66, MAE: 1.91, R2: 0.97\n"
     ]
    },
    {
     "name": "stderr",
     "output_type": "stream",
     "text": [
      "/var/folders/q2/9lh55t_s1k56_qhpfd2m00f80000gn/T/ipykernel_921/3166904741.py:47: FutureWarning: Series.fillna with 'method' is deprecated and will raise in a future version. Use obj.ffill() or obj.bfill() instead.\n",
      "  merged_data[pollen_type] = merged_data[pollen_type].interpolate().fillna(method='bfill').fillna(method='ffill')\n"
     ]
    },
    {
     "name": "stdout",
     "output_type": "stream",
     "text": [
      "Grass pollen (grains/m³) - RMSE: 2.69, MAE: 1.06, R2: 0.92\n",
      "Mugwort pollen (grains/m³) - RMSE: 0.00, MAE: 0.00, R2: 1.00\n"
     ]
    },
    {
     "name": "stderr",
     "output_type": "stream",
     "text": [
      "/var/folders/q2/9lh55t_s1k56_qhpfd2m00f80000gn/T/ipykernel_921/3166904741.py:47: FutureWarning: Series.fillna with 'method' is deprecated and will raise in a future version. Use obj.ffill() or obj.bfill() instead.\n",
      "  merged_data[pollen_type] = merged_data[pollen_type].interpolate().fillna(method='bfill').fillna(method='ffill')\n",
      "/var/folders/q2/9lh55t_s1k56_qhpfd2m00f80000gn/T/ipykernel_921/3166904741.py:47: FutureWarning: Series.fillna with 'method' is deprecated and will raise in a future version. Use obj.ffill() or obj.bfill() instead.\n",
      "  merged_data[pollen_type] = merged_data[pollen_type].interpolate().fillna(method='bfill').fillna(method='ffill')\n"
     ]
    },
    {
     "name": "stdout",
     "output_type": "stream",
     "text": [
      "Olive pollen (grains/m³) - RMSE: 0.32, MAE: 0.08, R2: 0.84\n"
     ]
    },
    {
     "name": "stderr",
     "output_type": "stream",
     "text": [
      "/var/folders/q2/9lh55t_s1k56_qhpfd2m00f80000gn/T/ipykernel_921/3166904741.py:47: FutureWarning: Series.fillna with 'method' is deprecated and will raise in a future version. Use obj.ffill() or obj.bfill() instead.\n",
      "  merged_data[pollen_type] = merged_data[pollen_type].interpolate().fillna(method='bfill').fillna(method='ffill')\n"
     ]
    },
    {
     "name": "stdout",
     "output_type": "stream",
     "text": [
      "Ragweed pollen (grains/m³) - RMSE: 0.26, MAE: 0.04, R2: 0.88\n",
      "Models and results saved for valley: Alta Valsugana and copied to ValleysModels\n",
      "Processing valley: Valle di Fiemme\n"
     ]
    },
    {
     "name": "stderr",
     "output_type": "stream",
     "text": [
      "/var/folders/q2/9lh55t_s1k56_qhpfd2m00f80000gn/T/ipykernel_921/3166904741.py:47: FutureWarning: Series.fillna with 'method' is deprecated and will raise in a future version. Use obj.ffill() or obj.bfill() instead.\n",
      "  merged_data[pollen_type] = merged_data[pollen_type].interpolate().fillna(method='bfill').fillna(method='ffill')\n"
     ]
    },
    {
     "name": "stdout",
     "output_type": "stream",
     "text": [
      "Alder pollen (grains/m³) - RMSE: 1.88, MAE: 0.41, R2: 0.79\n"
     ]
    },
    {
     "name": "stderr",
     "output_type": "stream",
     "text": [
      "/var/folders/q2/9lh55t_s1k56_qhpfd2m00f80000gn/T/ipykernel_921/3166904741.py:47: FutureWarning: Series.fillna with 'method' is deprecated and will raise in a future version. Use obj.ffill() or obj.bfill() instead.\n",
      "  merged_data[pollen_type] = merged_data[pollen_type].interpolate().fillna(method='bfill').fillna(method='ffill')\n"
     ]
    },
    {
     "name": "stdout",
     "output_type": "stream",
     "text": [
      "Birch pollen (grains/m³) - RMSE: 5.17, MAE: 1.41, R2: 0.93\n"
     ]
    },
    {
     "name": "stderr",
     "output_type": "stream",
     "text": [
      "/var/folders/q2/9lh55t_s1k56_qhpfd2m00f80000gn/T/ipykernel_921/3166904741.py:47: FutureWarning: Series.fillna with 'method' is deprecated and will raise in a future version. Use obj.ffill() or obj.bfill() instead.\n",
      "  merged_data[pollen_type] = merged_data[pollen_type].interpolate().fillna(method='bfill').fillna(method='ffill')\n"
     ]
    },
    {
     "name": "stdout",
     "output_type": "stream",
     "text": [
      "Grass pollen (grains/m³) - RMSE: 1.82, MAE: 0.68, R2: 0.97\n",
      "Mugwort pollen (grains/m³) - RMSE: 0.00, MAE: 0.00, R2: 0.17\n"
     ]
    },
    {
     "name": "stderr",
     "output_type": "stream",
     "text": [
      "/var/folders/q2/9lh55t_s1k56_qhpfd2m00f80000gn/T/ipykernel_921/3166904741.py:47: FutureWarning: Series.fillna with 'method' is deprecated and will raise in a future version. Use obj.ffill() or obj.bfill() instead.\n",
      "  merged_data[pollen_type] = merged_data[pollen_type].interpolate().fillna(method='bfill').fillna(method='ffill')\n",
      "/var/folders/q2/9lh55t_s1k56_qhpfd2m00f80000gn/T/ipykernel_921/3166904741.py:47: FutureWarning: Series.fillna with 'method' is deprecated and will raise in a future version. Use obj.ffill() or obj.bfill() instead.\n",
      "  merged_data[pollen_type] = merged_data[pollen_type].interpolate().fillna(method='bfill').fillna(method='ffill')\n"
     ]
    },
    {
     "name": "stdout",
     "output_type": "stream",
     "text": [
      "Olive pollen (grains/m³) - RMSE: 0.11, MAE: 0.03, R2: 0.95\n"
     ]
    },
    {
     "name": "stderr",
     "output_type": "stream",
     "text": [
      "/var/folders/q2/9lh55t_s1k56_qhpfd2m00f80000gn/T/ipykernel_921/3166904741.py:47: FutureWarning: Series.fillna with 'method' is deprecated and will raise in a future version. Use obj.ffill() or obj.bfill() instead.\n",
      "  merged_data[pollen_type] = merged_data[pollen_type].interpolate().fillna(method='bfill').fillna(method='ffill')\n"
     ]
    },
    {
     "name": "stdout",
     "output_type": "stream",
     "text": [
      "Ragweed pollen (grains/m³) - RMSE: 0.12, MAE: 0.02, R2: 0.92\n",
      "Models and results saved for valley: Valle di Fiemme and copied to ValleysModels\n",
      "Processing valley: Val di Fassa\n",
      "Alder pollen (grains/m³) - RMSE: 0.32, MAE: 0.08, R2: 0.61\n"
     ]
    },
    {
     "name": "stderr",
     "output_type": "stream",
     "text": [
      "/var/folders/q2/9lh55t_s1k56_qhpfd2m00f80000gn/T/ipykernel_921/3166904741.py:47: FutureWarning: Series.fillna with 'method' is deprecated and will raise in a future version. Use obj.ffill() or obj.bfill() instead.\n",
      "  merged_data[pollen_type] = merged_data[pollen_type].interpolate().fillna(method='bfill').fillna(method='ffill')\n",
      "/var/folders/q2/9lh55t_s1k56_qhpfd2m00f80000gn/T/ipykernel_921/3166904741.py:47: FutureWarning: Series.fillna with 'method' is deprecated and will raise in a future version. Use obj.ffill() or obj.bfill() instead.\n",
      "  merged_data[pollen_type] = merged_data[pollen_type].interpolate().fillna(method='bfill').fillna(method='ffill')\n"
     ]
    },
    {
     "name": "stdout",
     "output_type": "stream",
     "text": [
      "Birch pollen (grains/m³) - RMSE: 4.76, MAE: 1.55, R2: 0.81\n",
      "Grass pollen (grains/m³) - RMSE: 3.41, MAE: 1.31, R2: 0.94\n"
     ]
    },
    {
     "name": "stderr",
     "output_type": "stream",
     "text": [
      "/var/folders/q2/9lh55t_s1k56_qhpfd2m00f80000gn/T/ipykernel_921/3166904741.py:47: FutureWarning: Series.fillna with 'method' is deprecated and will raise in a future version. Use obj.ffill() or obj.bfill() instead.\n",
      "  merged_data[pollen_type] = merged_data[pollen_type].interpolate().fillna(method='bfill').fillna(method='ffill')\n",
      "/var/folders/q2/9lh55t_s1k56_qhpfd2m00f80000gn/T/ipykernel_921/3166904741.py:47: FutureWarning: Series.fillna with 'method' is deprecated and will raise in a future version. Use obj.ffill() or obj.bfill() instead.\n",
      "  merged_data[pollen_type] = merged_data[pollen_type].interpolate().fillna(method='bfill').fillna(method='ffill')\n"
     ]
    },
    {
     "name": "stdout",
     "output_type": "stream",
     "text": [
      "Mugwort pollen (grains/m³) - RMSE: 0.00, MAE: 0.00, R2: 0.31\n"
     ]
    },
    {
     "name": "stderr",
     "output_type": "stream",
     "text": [
      "/var/folders/q2/9lh55t_s1k56_qhpfd2m00f80000gn/T/ipykernel_921/3166904741.py:47: FutureWarning: Series.fillna with 'method' is deprecated and will raise in a future version. Use obj.ffill() or obj.bfill() instead.\n",
      "  merged_data[pollen_type] = merged_data[pollen_type].interpolate().fillna(method='bfill').fillna(method='ffill')\n"
     ]
    },
    {
     "name": "stdout",
     "output_type": "stream",
     "text": [
      "Olive pollen (grains/m³) - RMSE: 0.11, MAE: 0.02, R2: 0.84\n"
     ]
    },
    {
     "name": "stderr",
     "output_type": "stream",
     "text": [
      "/var/folders/q2/9lh55t_s1k56_qhpfd2m00f80000gn/T/ipykernel_921/3166904741.py:47: FutureWarning: Series.fillna with 'method' is deprecated and will raise in a future version. Use obj.ffill() or obj.bfill() instead.\n",
      "  merged_data[pollen_type] = merged_data[pollen_type].interpolate().fillna(method='bfill').fillna(method='ffill')\n"
     ]
    },
    {
     "name": "stdout",
     "output_type": "stream",
     "text": [
      "Ragweed pollen (grains/m³) - RMSE: 0.10, MAE: 0.01, R2: 0.84\n",
      "Models and results saved for valley: Val di Fassa and copied to ValleysModels\n",
      "Processing valley: Valle dei Laghi\n"
     ]
    },
    {
     "name": "stderr",
     "output_type": "stream",
     "text": [
      "/var/folders/q2/9lh55t_s1k56_qhpfd2m00f80000gn/T/ipykernel_921/3166904741.py:47: FutureWarning: Series.fillna with 'method' is deprecated and will raise in a future version. Use obj.ffill() or obj.bfill() instead.\n",
      "  merged_data[pollen_type] = merged_data[pollen_type].interpolate().fillna(method='bfill').fillna(method='ffill')\n"
     ]
    },
    {
     "name": "stdout",
     "output_type": "stream",
     "text": [
      "Alder pollen (grains/m³) - RMSE: 2.28, MAE: 0.54, R2: 0.95\n"
     ]
    },
    {
     "name": "stderr",
     "output_type": "stream",
     "text": [
      "/var/folders/q2/9lh55t_s1k56_qhpfd2m00f80000gn/T/ipykernel_921/3166904741.py:47: FutureWarning: Series.fillna with 'method' is deprecated and will raise in a future version. Use obj.ffill() or obj.bfill() instead.\n",
      "  merged_data[pollen_type] = merged_data[pollen_type].interpolate().fillna(method='bfill').fillna(method='ffill')\n"
     ]
    },
    {
     "name": "stdout",
     "output_type": "stream",
     "text": [
      "Birch pollen (grains/m³) - RMSE: 6.44, MAE: 1.54, R2: 0.98\n"
     ]
    },
    {
     "name": "stderr",
     "output_type": "stream",
     "text": [
      "/var/folders/q2/9lh55t_s1k56_qhpfd2m00f80000gn/T/ipykernel_921/3166904741.py:47: FutureWarning: Series.fillna with 'method' is deprecated and will raise in a future version. Use obj.ffill() or obj.bfill() instead.\n",
      "  merged_data[pollen_type] = merged_data[pollen_type].interpolate().fillna(method='bfill').fillna(method='ffill')\n"
     ]
    },
    {
     "name": "stdout",
     "output_type": "stream",
     "text": [
      "Grass pollen (grains/m³) - RMSE: 2.22, MAE: 0.72, R2: 0.97\n",
      "Mugwort pollen (grains/m³) - RMSE: 0.00, MAE: 0.00, R2: 1.00\n"
     ]
    },
    {
     "name": "stderr",
     "output_type": "stream",
     "text": [
      "/var/folders/q2/9lh55t_s1k56_qhpfd2m00f80000gn/T/ipykernel_921/3166904741.py:47: FutureWarning: Series.fillna with 'method' is deprecated and will raise in a future version. Use obj.ffill() or obj.bfill() instead.\n",
      "  merged_data[pollen_type] = merged_data[pollen_type].interpolate().fillna(method='bfill').fillna(method='ffill')\n",
      "/var/folders/q2/9lh55t_s1k56_qhpfd2m00f80000gn/T/ipykernel_921/3166904741.py:47: FutureWarning: Series.fillna with 'method' is deprecated and will raise in a future version. Use obj.ffill() or obj.bfill() instead.\n",
      "  merged_data[pollen_type] = merged_data[pollen_type].interpolate().fillna(method='bfill').fillna(method='ffill')\n"
     ]
    },
    {
     "name": "stdout",
     "output_type": "stream",
     "text": [
      "Olive pollen (grains/m³) - RMSE: 0.26, MAE: 0.05, R2: 0.93\n"
     ]
    },
    {
     "name": "stderr",
     "output_type": "stream",
     "text": [
      "/var/folders/q2/9lh55t_s1k56_qhpfd2m00f80000gn/T/ipykernel_921/3166904741.py:47: FutureWarning: Series.fillna with 'method' is deprecated and will raise in a future version. Use obj.ffill() or obj.bfill() instead.\n",
      "  merged_data[pollen_type] = merged_data[pollen_type].interpolate().fillna(method='bfill').fillna(method='ffill')\n"
     ]
    },
    {
     "name": "stdout",
     "output_type": "stream",
     "text": [
      "Ragweed pollen (grains/m³) - RMSE: 0.23, MAE: 0.03, R2: 0.95\n",
      "Models and results saved for valley: Valle dei Laghi and copied to ValleysModels\n",
      "Processing valley: Valle di Fassa\n",
      "Alder pollen (grains/m³) - RMSE: 0.51, MAE: 0.18, R2: -0.51\n",
      "Birch pollen (grains/m³) - RMSE: 9.71, MAE: 3.35, R2: 0.48\n"
     ]
    },
    {
     "name": "stderr",
     "output_type": "stream",
     "text": [
      "/var/folders/q2/9lh55t_s1k56_qhpfd2m00f80000gn/T/ipykernel_921/3166904741.py:47: FutureWarning: Series.fillna with 'method' is deprecated and will raise in a future version. Use obj.ffill() or obj.bfill() instead.\n",
      "  merged_data[pollen_type] = merged_data[pollen_type].interpolate().fillna(method='bfill').fillna(method='ffill')\n",
      "/var/folders/q2/9lh55t_s1k56_qhpfd2m00f80000gn/T/ipykernel_921/3166904741.py:47: FutureWarning: Series.fillna with 'method' is deprecated and will raise in a future version. Use obj.ffill() or obj.bfill() instead.\n",
      "  merged_data[pollen_type] = merged_data[pollen_type].interpolate().fillna(method='bfill').fillna(method='ffill')\n",
      "/var/folders/q2/9lh55t_s1k56_qhpfd2m00f80000gn/T/ipykernel_921/3166904741.py:47: FutureWarning: Series.fillna with 'method' is deprecated and will raise in a future version. Use obj.ffill() or obj.bfill() instead.\n",
      "  merged_data[pollen_type] = merged_data[pollen_type].interpolate().fillna(method='bfill').fillna(method='ffill')\n",
      "/var/folders/q2/9lh55t_s1k56_qhpfd2m00f80000gn/T/ipykernel_921/3166904741.py:47: FutureWarning: Series.fillna with 'method' is deprecated and will raise in a future version. Use obj.ffill() or obj.bfill() instead.\n",
      "  merged_data[pollen_type] = merged_data[pollen_type].interpolate().fillna(method='bfill').fillna(method='ffill')\n"
     ]
    },
    {
     "name": "stdout",
     "output_type": "stream",
     "text": [
      "Grass pollen (grains/m³) - RMSE: 6.39, MAE: 2.83, R2: 0.79\n",
      "Mugwort pollen (grains/m³) - RMSE: 0.00, MAE: 0.00, R2: -0.03\n",
      "Olive pollen (grains/m³) - RMSE: 0.19, MAE: 0.05, R2: 0.18\n"
     ]
    },
    {
     "name": "stderr",
     "output_type": "stream",
     "text": [
      "/var/folders/q2/9lh55t_s1k56_qhpfd2m00f80000gn/T/ipykernel_921/3166904741.py:47: FutureWarning: Series.fillna with 'method' is deprecated and will raise in a future version. Use obj.ffill() or obj.bfill() instead.\n",
      "  merged_data[pollen_type] = merged_data[pollen_type].interpolate().fillna(method='bfill').fillna(method='ffill')\n",
      "/var/folders/q2/9lh55t_s1k56_qhpfd2m00f80000gn/T/ipykernel_921/3166904741.py:47: FutureWarning: Series.fillna with 'method' is deprecated and will raise in a future version. Use obj.ffill() or obj.bfill() instead.\n",
      "  merged_data[pollen_type] = merged_data[pollen_type].interpolate().fillna(method='bfill').fillna(method='ffill')\n"
     ]
    },
    {
     "name": "stdout",
     "output_type": "stream",
     "text": [
      "Ragweed pollen (grains/m³) - RMSE: 0.16, MAE: 0.04, R2: 0.67\n",
      "Models and results saved for valley: Valle di Fassa and copied to ValleysModels\n",
      "Processing valley: Val Rendena\n",
      "Alder pollen (grains/m³) - RMSE: 2.24, MAE: 0.79, R2: 0.19\n",
      "Birch pollen (grains/m³) - RMSE: 10.06, MAE: 3.79, R2: 0.27\n"
     ]
    },
    {
     "name": "stderr",
     "output_type": "stream",
     "text": [
      "/var/folders/q2/9lh55t_s1k56_qhpfd2m00f80000gn/T/ipykernel_921/3166904741.py:47: FutureWarning: Series.fillna with 'method' is deprecated and will raise in a future version. Use obj.ffill() or obj.bfill() instead.\n",
      "  merged_data[pollen_type] = merged_data[pollen_type].interpolate().fillna(method='bfill').fillna(method='ffill')\n",
      "/var/folders/q2/9lh55t_s1k56_qhpfd2m00f80000gn/T/ipykernel_921/3166904741.py:47: FutureWarning: Series.fillna with 'method' is deprecated and will raise in a future version. Use obj.ffill() or obj.bfill() instead.\n",
      "  merged_data[pollen_type] = merged_data[pollen_type].interpolate().fillna(method='bfill').fillna(method='ffill')\n",
      "/var/folders/q2/9lh55t_s1k56_qhpfd2m00f80000gn/T/ipykernel_921/3166904741.py:47: FutureWarning: Series.fillna with 'method' is deprecated and will raise in a future version. Use obj.ffill() or obj.bfill() instead.\n",
      "  merged_data[pollen_type] = merged_data[pollen_type].interpolate().fillna(method='bfill').fillna(method='ffill')\n",
      "/var/folders/q2/9lh55t_s1k56_qhpfd2m00f80000gn/T/ipykernel_921/3166904741.py:47: FutureWarning: Series.fillna with 'method' is deprecated and will raise in a future version. Use obj.ffill() or obj.bfill() instead.\n",
      "  merged_data[pollen_type] = merged_data[pollen_type].interpolate().fillna(method='bfill').fillna(method='ffill')\n"
     ]
    },
    {
     "name": "stdout",
     "output_type": "stream",
     "text": [
      "Grass pollen (grains/m³) - RMSE: 4.21, MAE: 1.80, R2: 0.77\n",
      "Mugwort pollen (grains/m³) - RMSE: 0.00, MAE: 0.00, R2: 1.00\n",
      "Olive pollen (grains/m³) - RMSE: 0.37, MAE: 0.08, R2: 0.40\n"
     ]
    },
    {
     "name": "stderr",
     "output_type": "stream",
     "text": [
      "/var/folders/q2/9lh55t_s1k56_qhpfd2m00f80000gn/T/ipykernel_921/3166904741.py:47: FutureWarning: Series.fillna with 'method' is deprecated and will raise in a future version. Use obj.ffill() or obj.bfill() instead.\n",
      "  merged_data[pollen_type] = merged_data[pollen_type].interpolate().fillna(method='bfill').fillna(method='ffill')\n",
      "/var/folders/q2/9lh55t_s1k56_qhpfd2m00f80000gn/T/ipykernel_921/3166904741.py:47: FutureWarning: Series.fillna with 'method' is deprecated and will raise in a future version. Use obj.ffill() or obj.bfill() instead.\n",
      "  merged_data[pollen_type] = merged_data[pollen_type].interpolate().fillna(method='bfill').fillna(method='ffill')\n"
     ]
    },
    {
     "name": "stdout",
     "output_type": "stream",
     "text": [
      "Ragweed pollen (grains/m³) - RMSE: 0.24, MAE: 0.06, R2: 0.62\n",
      "Models and results saved for valley: Val Rendena and copied to ValleysModels\n",
      "Processing valley: Valsugana\n"
     ]
    },
    {
     "name": "stderr",
     "output_type": "stream",
     "text": [
      "/var/folders/q2/9lh55t_s1k56_qhpfd2m00f80000gn/T/ipykernel_921/3166904741.py:47: FutureWarning: Series.fillna with 'method' is deprecated and will raise in a future version. Use obj.ffill() or obj.bfill() instead.\n",
      "  merged_data[pollen_type] = merged_data[pollen_type].interpolate().fillna(method='bfill').fillna(method='ffill')\n"
     ]
    },
    {
     "name": "stdout",
     "output_type": "stream",
     "text": [
      "Alder pollen (grains/m³) - RMSE: 2.15, MAE: 0.47, R2: 0.89\n"
     ]
    },
    {
     "name": "stderr",
     "output_type": "stream",
     "text": [
      "/var/folders/q2/9lh55t_s1k56_qhpfd2m00f80000gn/T/ipykernel_921/3166904741.py:47: FutureWarning: Series.fillna with 'method' is deprecated and will raise in a future version. Use obj.ffill() or obj.bfill() instead.\n",
      "  merged_data[pollen_type] = merged_data[pollen_type].interpolate().fillna(method='bfill').fillna(method='ffill')\n"
     ]
    },
    {
     "name": "stdout",
     "output_type": "stream",
     "text": [
      "Birch pollen (grains/m³) - RMSE: 11.67, MAE: 2.02, R2: 0.88\n"
     ]
    },
    {
     "name": "stderr",
     "output_type": "stream",
     "text": [
      "/var/folders/q2/9lh55t_s1k56_qhpfd2m00f80000gn/T/ipykernel_921/3166904741.py:47: FutureWarning: Series.fillna with 'method' is deprecated and will raise in a future version. Use obj.ffill() or obj.bfill() instead.\n",
      "  merged_data[pollen_type] = merged_data[pollen_type].interpolate().fillna(method='bfill').fillna(method='ffill')\n"
     ]
    },
    {
     "name": "stdout",
     "output_type": "stream",
     "text": [
      "Grass pollen (grains/m³) - RMSE: 2.32, MAE: 0.72, R2: 0.94\n",
      "Mugwort pollen (grains/m³) - RMSE: 0.00, MAE: 0.00, R2: 1.00\n"
     ]
    },
    {
     "name": "stderr",
     "output_type": "stream",
     "text": [
      "/var/folders/q2/9lh55t_s1k56_qhpfd2m00f80000gn/T/ipykernel_921/3166904741.py:47: FutureWarning: Series.fillna with 'method' is deprecated and will raise in a future version. Use obj.ffill() or obj.bfill() instead.\n",
      "  merged_data[pollen_type] = merged_data[pollen_type].interpolate().fillna(method='bfill').fillna(method='ffill')\n",
      "/var/folders/q2/9lh55t_s1k56_qhpfd2m00f80000gn/T/ipykernel_921/3166904741.py:47: FutureWarning: Series.fillna with 'method' is deprecated and will raise in a future version. Use obj.ffill() or obj.bfill() instead.\n",
      "  merged_data[pollen_type] = merged_data[pollen_type].interpolate().fillna(method='bfill').fillna(method='ffill')\n"
     ]
    },
    {
     "name": "stdout",
     "output_type": "stream",
     "text": [
      "Olive pollen (grains/m³) - RMSE: 0.19, MAE: 0.04, R2: 0.87\n"
     ]
    },
    {
     "name": "stderr",
     "output_type": "stream",
     "text": [
      "/var/folders/q2/9lh55t_s1k56_qhpfd2m00f80000gn/T/ipykernel_921/3166904741.py:47: FutureWarning: Series.fillna with 'method' is deprecated and will raise in a future version. Use obj.ffill() or obj.bfill() instead.\n",
      "  merged_data[pollen_type] = merged_data[pollen_type].interpolate().fillna(method='bfill').fillna(method='ffill')\n"
     ]
    },
    {
     "name": "stdout",
     "output_type": "stream",
     "text": [
      "Ragweed pollen (grains/m³) - RMSE: 0.16, MAE: 0.02, R2: 0.96\n",
      "Models and results saved for valley: Valsugana and copied to ValleysModels\n",
      "Processing valley: Alto Garda e Ledro\n"
     ]
    },
    {
     "name": "stderr",
     "output_type": "stream",
     "text": [
      "/var/folders/q2/9lh55t_s1k56_qhpfd2m00f80000gn/T/ipykernel_921/3166904741.py:47: FutureWarning: Series.fillna with 'method' is deprecated and will raise in a future version. Use obj.ffill() or obj.bfill() instead.\n",
      "  merged_data[pollen_type] = merged_data[pollen_type].interpolate().fillna(method='bfill').fillna(method='ffill')\n"
     ]
    },
    {
     "name": "stdout",
     "output_type": "stream",
     "text": [
      "Alder pollen (grains/m³) - RMSE: 5.10, MAE: 1.25, R2: 0.85\n"
     ]
    },
    {
     "name": "stderr",
     "output_type": "stream",
     "text": [
      "/var/folders/q2/9lh55t_s1k56_qhpfd2m00f80000gn/T/ipykernel_921/3166904741.py:47: FutureWarning: Series.fillna with 'method' is deprecated and will raise in a future version. Use obj.ffill() or obj.bfill() instead.\n",
      "  merged_data[pollen_type] = merged_data[pollen_type].interpolate().fillna(method='bfill').fillna(method='ffill')\n"
     ]
    },
    {
     "name": "stdout",
     "output_type": "stream",
     "text": [
      "Birch pollen (grains/m³) - RMSE: 12.67, MAE: 3.14, R2: 0.84\n"
     ]
    },
    {
     "name": "stderr",
     "output_type": "stream",
     "text": [
      "/var/folders/q2/9lh55t_s1k56_qhpfd2m00f80000gn/T/ipykernel_921/3166904741.py:47: FutureWarning: Series.fillna with 'method' is deprecated and will raise in a future version. Use obj.ffill() or obj.bfill() instead.\n",
      "  merged_data[pollen_type] = merged_data[pollen_type].interpolate().fillna(method='bfill').fillna(method='ffill')\n"
     ]
    },
    {
     "name": "stdout",
     "output_type": "stream",
     "text": [
      "Grass pollen (grains/m³) - RMSE: 2.70, MAE: 1.20, R2: 0.94\n",
      "Mugwort pollen (grains/m³) - RMSE: 0.00, MAE: 0.00, R2: 1.00\n"
     ]
    },
    {
     "name": "stderr",
     "output_type": "stream",
     "text": [
      "/var/folders/q2/9lh55t_s1k56_qhpfd2m00f80000gn/T/ipykernel_921/3166904741.py:47: FutureWarning: Series.fillna with 'method' is deprecated and will raise in a future version. Use obj.ffill() or obj.bfill() instead.\n",
      "  merged_data[pollen_type] = merged_data[pollen_type].interpolate().fillna(method='bfill').fillna(method='ffill')\n",
      "/var/folders/q2/9lh55t_s1k56_qhpfd2m00f80000gn/T/ipykernel_921/3166904741.py:47: FutureWarning: Series.fillna with 'method' is deprecated and will raise in a future version. Use obj.ffill() or obj.bfill() instead.\n",
      "  merged_data[pollen_type] = merged_data[pollen_type].interpolate().fillna(method='bfill').fillna(method='ffill')\n"
     ]
    },
    {
     "name": "stdout",
     "output_type": "stream",
     "text": [
      "Olive pollen (grains/m³) - RMSE: 0.59, MAE: 0.13, R2: 0.90\n"
     ]
    },
    {
     "name": "stderr",
     "output_type": "stream",
     "text": [
      "/var/folders/q2/9lh55t_s1k56_qhpfd2m00f80000gn/T/ipykernel_921/3166904741.py:47: FutureWarning: Series.fillna with 'method' is deprecated and will raise in a future version. Use obj.ffill() or obj.bfill() instead.\n",
      "  merged_data[pollen_type] = merged_data[pollen_type].interpolate().fillna(method='bfill').fillna(method='ffill')\n"
     ]
    },
    {
     "name": "stdout",
     "output_type": "stream",
     "text": [
      "Ragweed pollen (grains/m³) - RMSE: 0.39, MAE: 0.08, R2: 0.88\n",
      "Models and results saved for valley: Alto Garda e Ledro and copied to ValleysModels\n",
      "Processing valley: Valle di Primiero\n"
     ]
    },
    {
     "name": "stderr",
     "output_type": "stream",
     "text": [
      "/var/folders/q2/9lh55t_s1k56_qhpfd2m00f80000gn/T/ipykernel_921/3166904741.py:47: FutureWarning: Series.fillna with 'method' is deprecated and will raise in a future version. Use obj.ffill() or obj.bfill() instead.\n",
      "  merged_data[pollen_type] = merged_data[pollen_type].interpolate().fillna(method='bfill').fillna(method='ffill')\n",
      "/var/folders/q2/9lh55t_s1k56_qhpfd2m00f80000gn/T/ipykernel_921/3166904741.py:47: FutureWarning: Series.fillna with 'method' is deprecated and will raise in a future version. Use obj.ffill() or obj.bfill() instead.\n",
      "  merged_data[pollen_type] = merged_data[pollen_type].interpolate().fillna(method='bfill').fillna(method='ffill')\n"
     ]
    },
    {
     "name": "stdout",
     "output_type": "stream",
     "text": [
      "Alder pollen (grains/m³) - RMSE: 1.99, MAE: 0.35, R2: 0.74\n",
      "Birch pollen (grains/m³) - RMSE: 12.30, MAE: 2.27, R2: 0.81\n",
      "Grass pollen (grains/m³) - RMSE: 2.63, MAE: 0.81, R2: 0.91\n"
     ]
    },
    {
     "name": "stderr",
     "output_type": "stream",
     "text": [
      "/var/folders/q2/9lh55t_s1k56_qhpfd2m00f80000gn/T/ipykernel_921/3166904741.py:47: FutureWarning: Series.fillna with 'method' is deprecated and will raise in a future version. Use obj.ffill() or obj.bfill() instead.\n",
      "  merged_data[pollen_type] = merged_data[pollen_type].interpolate().fillna(method='bfill').fillna(method='ffill')\n",
      "/var/folders/q2/9lh55t_s1k56_qhpfd2m00f80000gn/T/ipykernel_921/3166904741.py:47: FutureWarning: Series.fillna with 'method' is deprecated and will raise in a future version. Use obj.ffill() or obj.bfill() instead.\n",
      "  merged_data[pollen_type] = merged_data[pollen_type].interpolate().fillna(method='bfill').fillna(method='ffill')\n"
     ]
    },
    {
     "name": "stdout",
     "output_type": "stream",
     "text": [
      "Mugwort pollen (grains/m³) - RMSE: 0.00, MAE: 0.00, R2: 0.00\n"
     ]
    },
    {
     "name": "stderr",
     "output_type": "stream",
     "text": [
      "/var/folders/q2/9lh55t_s1k56_qhpfd2m00f80000gn/T/ipykernel_921/3166904741.py:47: FutureWarning: Series.fillna with 'method' is deprecated and will raise in a future version. Use obj.ffill() or obj.bfill() instead.\n",
      "  merged_data[pollen_type] = merged_data[pollen_type].interpolate().fillna(method='bfill').fillna(method='ffill')\n"
     ]
    },
    {
     "name": "stdout",
     "output_type": "stream",
     "text": [
      "Olive pollen (grains/m³) - RMSE: 0.14, MAE: 0.03, R2: 0.85\n"
     ]
    },
    {
     "name": "stderr",
     "output_type": "stream",
     "text": [
      "/var/folders/q2/9lh55t_s1k56_qhpfd2m00f80000gn/T/ipykernel_921/3166904741.py:47: FutureWarning: Series.fillna with 'method' is deprecated and will raise in a future version. Use obj.ffill() or obj.bfill() instead.\n",
      "  merged_data[pollen_type] = merged_data[pollen_type].interpolate().fillna(method='bfill').fillna(method='ffill')\n"
     ]
    },
    {
     "name": "stdout",
     "output_type": "stream",
     "text": [
      "Ragweed pollen (grains/m³) - RMSE: 0.21, MAE: 0.02, R2: 0.92\n",
      "Models and results saved for valley: Valle di Primiero and copied to ValleysModels\n",
      "Processing valley: Oltradige-Bassa Atesina\n"
     ]
    },
    {
     "name": "stderr",
     "output_type": "stream",
     "text": [
      "/var/folders/q2/9lh55t_s1k56_qhpfd2m00f80000gn/T/ipykernel_921/3166904741.py:47: FutureWarning: Series.fillna with 'method' is deprecated and will raise in a future version. Use obj.ffill() or obj.bfill() instead.\n",
      "  merged_data[pollen_type] = merged_data[pollen_type].interpolate().fillna(method='bfill').fillna(method='ffill')\n"
     ]
    },
    {
     "name": "stdout",
     "output_type": "stream",
     "text": [
      "Alder pollen (grains/m³) - RMSE: 1.13, MAE: 0.16, R2: 0.99\n"
     ]
    },
    {
     "name": "stderr",
     "output_type": "stream",
     "text": [
      "/var/folders/q2/9lh55t_s1k56_qhpfd2m00f80000gn/T/ipykernel_921/3166904741.py:47: FutureWarning: Series.fillna with 'method' is deprecated and will raise in a future version. Use obj.ffill() or obj.bfill() instead.\n",
      "  merged_data[pollen_type] = merged_data[pollen_type].interpolate().fillna(method='bfill').fillna(method='ffill')\n"
     ]
    },
    {
     "name": "stdout",
     "output_type": "stream",
     "text": [
      "Birch pollen (grains/m³) - RMSE: 1.91, MAE: 0.37, R2: 1.00\n"
     ]
    },
    {
     "name": "stderr",
     "output_type": "stream",
     "text": [
      "/var/folders/q2/9lh55t_s1k56_qhpfd2m00f80000gn/T/ipykernel_921/3166904741.py:47: FutureWarning: Series.fillna with 'method' is deprecated and will raise in a future version. Use obj.ffill() or obj.bfill() instead.\n",
      "  merged_data[pollen_type] = merged_data[pollen_type].interpolate().fillna(method='bfill').fillna(method='ffill')\n"
     ]
    },
    {
     "name": "stdout",
     "output_type": "stream",
     "text": [
      "Grass pollen (grains/m³) - RMSE: 0.60, MAE: 0.19, R2: 0.99\n",
      "Mugwort pollen (grains/m³) - RMSE: 0.00, MAE: 0.00, R2: 0.67\n"
     ]
    },
    {
     "name": "stderr",
     "output_type": "stream",
     "text": [
      "/var/folders/q2/9lh55t_s1k56_qhpfd2m00f80000gn/T/ipykernel_921/3166904741.py:47: FutureWarning: Series.fillna with 'method' is deprecated and will raise in a future version. Use obj.ffill() or obj.bfill() instead.\n",
      "  merged_data[pollen_type] = merged_data[pollen_type].interpolate().fillna(method='bfill').fillna(method='ffill')\n",
      "/var/folders/q2/9lh55t_s1k56_qhpfd2m00f80000gn/T/ipykernel_921/3166904741.py:47: FutureWarning: Series.fillna with 'method' is deprecated and will raise in a future version. Use obj.ffill() or obj.bfill() instead.\n",
      "  merged_data[pollen_type] = merged_data[pollen_type].interpolate().fillna(method='bfill').fillna(method='ffill')\n"
     ]
    },
    {
     "name": "stdout",
     "output_type": "stream",
     "text": [
      "Olive pollen (grains/m³) - RMSE: 0.10, MAE: 0.02, R2: 0.99\n"
     ]
    },
    {
     "name": "stderr",
     "output_type": "stream",
     "text": [
      "/var/folders/q2/9lh55t_s1k56_qhpfd2m00f80000gn/T/ipykernel_921/3166904741.py:47: FutureWarning: Series.fillna with 'method' is deprecated and will raise in a future version. Use obj.ffill() or obj.bfill() instead.\n",
      "  merged_data[pollen_type] = merged_data[pollen_type].interpolate().fillna(method='bfill').fillna(method='ffill')\n"
     ]
    },
    {
     "name": "stdout",
     "output_type": "stream",
     "text": [
      "Ragweed pollen (grains/m³) - RMSE: 0.05, MAE: 0.01, R2: 0.99\n",
      "Models and results saved for valley: Oltradige-Bassa Atesina and copied to ValleysModels\n",
      "Processing valley: Salto-Sciliar\n",
      "Alder pollen (grains/m³) - RMSE: 1.36, MAE: 0.27, R2: 0.92\n"
     ]
    },
    {
     "name": "stderr",
     "output_type": "stream",
     "text": [
      "/var/folders/q2/9lh55t_s1k56_qhpfd2m00f80000gn/T/ipykernel_921/3166904741.py:47: FutureWarning: Series.fillna with 'method' is deprecated and will raise in a future version. Use obj.ffill() or obj.bfill() instead.\n",
      "  merged_data[pollen_type] = merged_data[pollen_type].interpolate().fillna(method='bfill').fillna(method='ffill')\n",
      "/var/folders/q2/9lh55t_s1k56_qhpfd2m00f80000gn/T/ipykernel_921/3166904741.py:47: FutureWarning: Series.fillna with 'method' is deprecated and will raise in a future version. Use obj.ffill() or obj.bfill() instead.\n",
      "  merged_data[pollen_type] = merged_data[pollen_type].interpolate().fillna(method='bfill').fillna(method='ffill')\n"
     ]
    },
    {
     "name": "stdout",
     "output_type": "stream",
     "text": [
      "Birch pollen (grains/m³) - RMSE: 3.00, MAE: 1.16, R2: 0.99\n",
      "Grass pollen (grains/m³) - RMSE: 2.76, MAE: 1.27, R2: 0.94\n",
      "Mugwort pollen (grains/m³) - RMSE: 0.00, MAE: 0.00, R2: 0.80\n"
     ]
    },
    {
     "name": "stderr",
     "output_type": "stream",
     "text": [
      "/var/folders/q2/9lh55t_s1k56_qhpfd2m00f80000gn/T/ipykernel_921/3166904741.py:47: FutureWarning: Series.fillna with 'method' is deprecated and will raise in a future version. Use obj.ffill() or obj.bfill() instead.\n",
      "  merged_data[pollen_type] = merged_data[pollen_type].interpolate().fillna(method='bfill').fillna(method='ffill')\n",
      "/var/folders/q2/9lh55t_s1k56_qhpfd2m00f80000gn/T/ipykernel_921/3166904741.py:47: FutureWarning: Series.fillna with 'method' is deprecated and will raise in a future version. Use obj.ffill() or obj.bfill() instead.\n",
      "  merged_data[pollen_type] = merged_data[pollen_type].interpolate().fillna(method='bfill').fillna(method='ffill')\n",
      "/var/folders/q2/9lh55t_s1k56_qhpfd2m00f80000gn/T/ipykernel_921/3166904741.py:47: FutureWarning: Series.fillna with 'method' is deprecated and will raise in a future version. Use obj.ffill() or obj.bfill() instead.\n",
      "  merged_data[pollen_type] = merged_data[pollen_type].interpolate().fillna(method='bfill').fillna(method='ffill')\n"
     ]
    },
    {
     "name": "stdout",
     "output_type": "stream",
     "text": [
      "Olive pollen (grains/m³) - RMSE: 0.37, MAE: 0.07, R2: 0.96\n"
     ]
    },
    {
     "name": "stderr",
     "output_type": "stream",
     "text": [
      "/var/folders/q2/9lh55t_s1k56_qhpfd2m00f80000gn/T/ipykernel_921/3166904741.py:47: FutureWarning: Series.fillna with 'method' is deprecated and will raise in a future version. Use obj.ffill() or obj.bfill() instead.\n",
      "  merged_data[pollen_type] = merged_data[pollen_type].interpolate().fillna(method='bfill').fillna(method='ffill')\n"
     ]
    },
    {
     "name": "stdout",
     "output_type": "stream",
     "text": [
      "Ragweed pollen (grains/m³) - RMSE: 0.07, MAE: 0.01, R2: 0.94\n",
      "Models and results saved for valley: Salto-Sciliar and copied to ValleysModels\n",
      "Processing valley: Valle Isarco\n"
     ]
    },
    {
     "name": "stderr",
     "output_type": "stream",
     "text": [
      "/var/folders/q2/9lh55t_s1k56_qhpfd2m00f80000gn/T/ipykernel_921/3166904741.py:47: FutureWarning: Series.fillna with 'method' is deprecated and will raise in a future version. Use obj.ffill() or obj.bfill() instead.\n",
      "  merged_data[pollen_type] = merged_data[pollen_type].interpolate().fillna(method='bfill').fillna(method='ffill')\n"
     ]
    },
    {
     "name": "stdout",
     "output_type": "stream",
     "text": [
      "Alder pollen (grains/m³) - RMSE: 0.79, MAE: 0.15, R2: 0.96\n"
     ]
    },
    {
     "name": "stderr",
     "output_type": "stream",
     "text": [
      "/var/folders/q2/9lh55t_s1k56_qhpfd2m00f80000gn/T/ipykernel_921/3166904741.py:47: FutureWarning: Series.fillna with 'method' is deprecated and will raise in a future version. Use obj.ffill() or obj.bfill() instead.\n",
      "  merged_data[pollen_type] = merged_data[pollen_type].interpolate().fillna(method='bfill').fillna(method='ffill')\n"
     ]
    },
    {
     "name": "stdout",
     "output_type": "stream",
     "text": [
      "Birch pollen (grains/m³) - RMSE: 3.04, MAE: 1.03, R2: 0.96\n"
     ]
    },
    {
     "name": "stderr",
     "output_type": "stream",
     "text": [
      "/var/folders/q2/9lh55t_s1k56_qhpfd2m00f80000gn/T/ipykernel_921/3166904741.py:47: FutureWarning: Series.fillna with 'method' is deprecated and will raise in a future version. Use obj.ffill() or obj.bfill() instead.\n",
      "  merged_data[pollen_type] = merged_data[pollen_type].interpolate().fillna(method='bfill').fillna(method='ffill')\n"
     ]
    },
    {
     "name": "stdout",
     "output_type": "stream",
     "text": [
      "Grass pollen (grains/m³) - RMSE: 2.56, MAE: 0.89, R2: 0.97\n"
     ]
    },
    {
     "name": "stderr",
     "output_type": "stream",
     "text": [
      "/var/folders/q2/9lh55t_s1k56_qhpfd2m00f80000gn/T/ipykernel_921/3166904741.py:47: FutureWarning: Series.fillna with 'method' is deprecated and will raise in a future version. Use obj.ffill() or obj.bfill() instead.\n",
      "  merged_data[pollen_type] = merged_data[pollen_type].interpolate().fillna(method='bfill').fillna(method='ffill')\n"
     ]
    },
    {
     "name": "stdout",
     "output_type": "stream",
     "text": [
      "Mugwort pollen (grains/m³) - RMSE: 0.00, MAE: 0.00, R2: 0.15\n"
     ]
    },
    {
     "name": "stderr",
     "output_type": "stream",
     "text": [
      "/var/folders/q2/9lh55t_s1k56_qhpfd2m00f80000gn/T/ipykernel_921/3166904741.py:47: FutureWarning: Series.fillna with 'method' is deprecated and will raise in a future version. Use obj.ffill() or obj.bfill() instead.\n",
      "  merged_data[pollen_type] = merged_data[pollen_type].interpolate().fillna(method='bfill').fillna(method='ffill')\n"
     ]
    },
    {
     "name": "stdout",
     "output_type": "stream",
     "text": [
      "Olive pollen (grains/m³) - RMSE: 0.13, MAE: 0.02, R2: 0.95\n"
     ]
    },
    {
     "name": "stderr",
     "output_type": "stream",
     "text": [
      "/var/folders/q2/9lh55t_s1k56_qhpfd2m00f80000gn/T/ipykernel_921/3166904741.py:47: FutureWarning: Series.fillna with 'method' is deprecated and will raise in a future version. Use obj.ffill() or obj.bfill() instead.\n",
      "  merged_data[pollen_type] = merged_data[pollen_type].interpolate().fillna(method='bfill').fillna(method='ffill')\n"
     ]
    },
    {
     "name": "stdout",
     "output_type": "stream",
     "text": [
      "Ragweed pollen (grains/m³) - RMSE: 0.04, MAE: 0.01, R2: 0.96\n",
      "Models and results saved for valley: Valle Isarco and copied to ValleysModels\n",
      "Processing valley: Vallagarina\n"
     ]
    },
    {
     "name": "stderr",
     "output_type": "stream",
     "text": [
      "/var/folders/q2/9lh55t_s1k56_qhpfd2m00f80000gn/T/ipykernel_921/3166904741.py:47: FutureWarning: Series.fillna with 'method' is deprecated and will raise in a future version. Use obj.ffill() or obj.bfill() instead.\n",
      "  merged_data[pollen_type] = merged_data[pollen_type].interpolate().fillna(method='bfill').fillna(method='ffill')\n"
     ]
    },
    {
     "name": "stdout",
     "output_type": "stream",
     "text": [
      "Alder pollen (grains/m³) - RMSE: 7.61, MAE: 1.95, R2: 0.80\n"
     ]
    },
    {
     "name": "stderr",
     "output_type": "stream",
     "text": [
      "/var/folders/q2/9lh55t_s1k56_qhpfd2m00f80000gn/T/ipykernel_921/3166904741.py:47: FutureWarning: Series.fillna with 'method' is deprecated and will raise in a future version. Use obj.ffill() or obj.bfill() instead.\n",
      "  merged_data[pollen_type] = merged_data[pollen_type].interpolate().fillna(method='bfill').fillna(method='ffill')\n"
     ]
    },
    {
     "name": "stdout",
     "output_type": "stream",
     "text": [
      "Birch pollen (grains/m³) - RMSE: 9.84, MAE: 2.19, R2: 0.93\n"
     ]
    },
    {
     "name": "stderr",
     "output_type": "stream",
     "text": [
      "/var/folders/q2/9lh55t_s1k56_qhpfd2m00f80000gn/T/ipykernel_921/3166904741.py:47: FutureWarning: Series.fillna with 'method' is deprecated and will raise in a future version. Use obj.ffill() or obj.bfill() instead.\n",
      "  merged_data[pollen_type] = merged_data[pollen_type].interpolate().fillna(method='bfill').fillna(method='ffill')\n"
     ]
    },
    {
     "name": "stdout",
     "output_type": "stream",
     "text": [
      "Grass pollen (grains/m³) - RMSE: 2.81, MAE: 1.20, R2: 0.94\n",
      "Mugwort pollen (grains/m³) - RMSE: 0.00, MAE: 0.00, R2: 1.00\n"
     ]
    },
    {
     "name": "stderr",
     "output_type": "stream",
     "text": [
      "/var/folders/q2/9lh55t_s1k56_qhpfd2m00f80000gn/T/ipykernel_921/3166904741.py:47: FutureWarning: Series.fillna with 'method' is deprecated and will raise in a future version. Use obj.ffill() or obj.bfill() instead.\n",
      "  merged_data[pollen_type] = merged_data[pollen_type].interpolate().fillna(method='bfill').fillna(method='ffill')\n",
      "/var/folders/q2/9lh55t_s1k56_qhpfd2m00f80000gn/T/ipykernel_921/3166904741.py:47: FutureWarning: Series.fillna with 'method' is deprecated and will raise in a future version. Use obj.ffill() or obj.bfill() instead.\n",
      "  merged_data[pollen_type] = merged_data[pollen_type].interpolate().fillna(method='bfill').fillna(method='ffill')\n"
     ]
    },
    {
     "name": "stdout",
     "output_type": "stream",
     "text": [
      "Olive pollen (grains/m³) - RMSE: 0.49, MAE: 0.12, R2: 0.92\n"
     ]
    },
    {
     "name": "stderr",
     "output_type": "stream",
     "text": [
      "/var/folders/q2/9lh55t_s1k56_qhpfd2m00f80000gn/T/ipykernel_921/3166904741.py:47: FutureWarning: Series.fillna with 'method' is deprecated and will raise in a future version. Use obj.ffill() or obj.bfill() instead.\n",
      "  merged_data[pollen_type] = merged_data[pollen_type].interpolate().fillna(method='bfill').fillna(method='ffill')\n"
     ]
    },
    {
     "name": "stdout",
     "output_type": "stream",
     "text": [
      "Ragweed pollen (grains/m³) - RMSE: 0.39, MAE: 0.07, R2: 0.89\n",
      "Models and results saved for valley: Vallagarina and copied to ValleysModels\n",
      "Processing valley: Val d'Adige\n"
     ]
    },
    {
     "name": "stderr",
     "output_type": "stream",
     "text": [
      "/var/folders/q2/9lh55t_s1k56_qhpfd2m00f80000gn/T/ipykernel_921/3166904741.py:47: FutureWarning: Series.fillna with 'method' is deprecated and will raise in a future version. Use obj.ffill() or obj.bfill() instead.\n",
      "  merged_data[pollen_type] = merged_data[pollen_type].interpolate().fillna(method='bfill').fillna(method='ffill')\n"
     ]
    },
    {
     "name": "stdout",
     "output_type": "stream",
     "text": [
      "Alder pollen (grains/m³) - RMSE: 2.14, MAE: 0.41, R2: 0.92\n"
     ]
    },
    {
     "name": "stderr",
     "output_type": "stream",
     "text": [
      "/var/folders/q2/9lh55t_s1k56_qhpfd2m00f80000gn/T/ipykernel_921/3166904741.py:47: FutureWarning: Series.fillna with 'method' is deprecated and will raise in a future version. Use obj.ffill() or obj.bfill() instead.\n",
      "  merged_data[pollen_type] = merged_data[pollen_type].interpolate().fillna(method='bfill').fillna(method='ffill')\n"
     ]
    },
    {
     "name": "stdout",
     "output_type": "stream",
     "text": [
      "Birch pollen (grains/m³) - RMSE: 7.24, MAE: 1.17, R2: 0.96\n"
     ]
    },
    {
     "name": "stderr",
     "output_type": "stream",
     "text": [
      "/var/folders/q2/9lh55t_s1k56_qhpfd2m00f80000gn/T/ipykernel_921/3166904741.py:47: FutureWarning: Series.fillna with 'method' is deprecated and will raise in a future version. Use obj.ffill() or obj.bfill() instead.\n",
      "  merged_data[pollen_type] = merged_data[pollen_type].interpolate().fillna(method='bfill').fillna(method='ffill')\n"
     ]
    },
    {
     "name": "stdout",
     "output_type": "stream",
     "text": [
      "Grass pollen (grains/m³) - RMSE: 2.09, MAE: 0.71, R2: 0.97\n"
     ]
    },
    {
     "name": "stderr",
     "output_type": "stream",
     "text": [
      "/var/folders/q2/9lh55t_s1k56_qhpfd2m00f80000gn/T/ipykernel_921/3166904741.py:47: FutureWarning: Series.fillna with 'method' is deprecated and will raise in a future version. Use obj.ffill() or obj.bfill() instead.\n",
      "  merged_data[pollen_type] = merged_data[pollen_type].interpolate().fillna(method='bfill').fillna(method='ffill')\n"
     ]
    },
    {
     "name": "stdout",
     "output_type": "stream",
     "text": [
      "Mugwort pollen (grains/m³) - RMSE: 0.00, MAE: 0.00, R2: 0.61\n"
     ]
    },
    {
     "name": "stderr",
     "output_type": "stream",
     "text": [
      "/var/folders/q2/9lh55t_s1k56_qhpfd2m00f80000gn/T/ipykernel_921/3166904741.py:47: FutureWarning: Series.fillna with 'method' is deprecated and will raise in a future version. Use obj.ffill() or obj.bfill() instead.\n",
      "  merged_data[pollen_type] = merged_data[pollen_type].interpolate().fillna(method='bfill').fillna(method='ffill')\n"
     ]
    },
    {
     "name": "stdout",
     "output_type": "stream",
     "text": [
      "Olive pollen (grains/m³) - RMSE: 0.18, MAE: 0.04, R2: 0.99\n"
     ]
    },
    {
     "name": "stderr",
     "output_type": "stream",
     "text": [
      "/var/folders/q2/9lh55t_s1k56_qhpfd2m00f80000gn/T/ipykernel_921/3166904741.py:47: FutureWarning: Series.fillna with 'method' is deprecated and will raise in a future version. Use obj.ffill() or obj.bfill() instead.\n",
      "  merged_data[pollen_type] = merged_data[pollen_type].interpolate().fillna(method='bfill').fillna(method='ffill')\n"
     ]
    },
    {
     "name": "stdout",
     "output_type": "stream",
     "text": [
      "Ragweed pollen (grains/m³) - RMSE: 0.18, MAE: 0.02, R2: 0.89\n",
      "Models and results saved for valley: Val d'Adige and copied to ValleysModels\n",
      "Processing valley: Val di Sole\n"
     ]
    },
    {
     "name": "stderr",
     "output_type": "stream",
     "text": [
      "/var/folders/q2/9lh55t_s1k56_qhpfd2m00f80000gn/T/ipykernel_921/3166904741.py:47: FutureWarning: Series.fillna with 'method' is deprecated and will raise in a future version. Use obj.ffill() or obj.bfill() instead.\n",
      "  merged_data[pollen_type] = merged_data[pollen_type].interpolate().fillna(method='bfill').fillna(method='ffill')\n"
     ]
    },
    {
     "name": "stdout",
     "output_type": "stream",
     "text": [
      "Alder pollen (grains/m³) - RMSE: 1.00, MAE: 0.23, R2: 0.85\n"
     ]
    },
    {
     "name": "stderr",
     "output_type": "stream",
     "text": [
      "/var/folders/q2/9lh55t_s1k56_qhpfd2m00f80000gn/T/ipykernel_921/3166904741.py:47: FutureWarning: Series.fillna with 'method' is deprecated and will raise in a future version. Use obj.ffill() or obj.bfill() instead.\n",
      "  merged_data[pollen_type] = merged_data[pollen_type].interpolate().fillna(method='bfill').fillna(method='ffill')\n"
     ]
    },
    {
     "name": "stdout",
     "output_type": "stream",
     "text": [
      "Birch pollen (grains/m³) - RMSE: 6.32, MAE: 2.41, R2: 0.86\n"
     ]
    },
    {
     "name": "stderr",
     "output_type": "stream",
     "text": [
      "/var/folders/q2/9lh55t_s1k56_qhpfd2m00f80000gn/T/ipykernel_921/3166904741.py:47: FutureWarning: Series.fillna with 'method' is deprecated and will raise in a future version. Use obj.ffill() or obj.bfill() instead.\n",
      "  merged_data[pollen_type] = merged_data[pollen_type].interpolate().fillna(method='bfill').fillna(method='ffill')\n"
     ]
    },
    {
     "name": "stdout",
     "output_type": "stream",
     "text": [
      "Grass pollen (grains/m³) - RMSE: 2.95, MAE: 1.17, R2: 0.92\n",
      "Mugwort pollen (grains/m³) - RMSE: 0.00, MAE: 0.00, R2: 1.00\n"
     ]
    },
    {
     "name": "stderr",
     "output_type": "stream",
     "text": [
      "/var/folders/q2/9lh55t_s1k56_qhpfd2m00f80000gn/T/ipykernel_921/3166904741.py:47: FutureWarning: Series.fillna with 'method' is deprecated and will raise in a future version. Use obj.ffill() or obj.bfill() instead.\n",
      "  merged_data[pollen_type] = merged_data[pollen_type].interpolate().fillna(method='bfill').fillna(method='ffill')\n",
      "/var/folders/q2/9lh55t_s1k56_qhpfd2m00f80000gn/T/ipykernel_921/3166904741.py:47: FutureWarning: Series.fillna with 'method' is deprecated and will raise in a future version. Use obj.ffill() or obj.bfill() instead.\n",
      "  merged_data[pollen_type] = merged_data[pollen_type].interpolate().fillna(method='bfill').fillna(method='ffill')\n"
     ]
    },
    {
     "name": "stdout",
     "output_type": "stream",
     "text": [
      "Olive pollen (grains/m³) - RMSE: 0.14, MAE: 0.03, R2: 0.93\n"
     ]
    },
    {
     "name": "stderr",
     "output_type": "stream",
     "text": [
      "/var/folders/q2/9lh55t_s1k56_qhpfd2m00f80000gn/T/ipykernel_921/3166904741.py:47: FutureWarning: Series.fillna with 'method' is deprecated and will raise in a future version. Use obj.ffill() or obj.bfill() instead.\n",
      "  merged_data[pollen_type] = merged_data[pollen_type].interpolate().fillna(method='bfill').fillna(method='ffill')\n"
     ]
    },
    {
     "name": "stdout",
     "output_type": "stream",
     "text": [
      "Ragweed pollen (grains/m³) - RMSE: 0.11, MAE: 0.01, R2: 0.79\n",
      "Models and results saved for valley: Val di Sole and copied to ValleysModels\n",
      "Processing valley: Valle di Rendena\n"
     ]
    },
    {
     "name": "stderr",
     "output_type": "stream",
     "text": [
      "/var/folders/q2/9lh55t_s1k56_qhpfd2m00f80000gn/T/ipykernel_921/3166904741.py:47: FutureWarning: Series.fillna with 'method' is deprecated and will raise in a future version. Use obj.ffill() or obj.bfill() instead.\n",
      "  merged_data[pollen_type] = merged_data[pollen_type].interpolate().fillna(method='bfill').fillna(method='ffill')\n"
     ]
    },
    {
     "name": "stdout",
     "output_type": "stream",
     "text": [
      "Alder pollen (grains/m³) - RMSE: 0.89, MAE: 0.21, R2: 0.95\n"
     ]
    },
    {
     "name": "stderr",
     "output_type": "stream",
     "text": [
      "/var/folders/q2/9lh55t_s1k56_qhpfd2m00f80000gn/T/ipykernel_921/3166904741.py:47: FutureWarning: Series.fillna with 'method' is deprecated and will raise in a future version. Use obj.ffill() or obj.bfill() instead.\n",
      "  merged_data[pollen_type] = merged_data[pollen_type].interpolate().fillna(method='bfill').fillna(method='ffill')\n"
     ]
    },
    {
     "name": "stdout",
     "output_type": "stream",
     "text": [
      "Birch pollen (grains/m³) - RMSE: 4.44, MAE: 1.47, R2: 0.91\n"
     ]
    },
    {
     "name": "stderr",
     "output_type": "stream",
     "text": [
      "/var/folders/q2/9lh55t_s1k56_qhpfd2m00f80000gn/T/ipykernel_921/3166904741.py:47: FutureWarning: Series.fillna with 'method' is deprecated and will raise in a future version. Use obj.ffill() or obj.bfill() instead.\n",
      "  merged_data[pollen_type] = merged_data[pollen_type].interpolate().fillna(method='bfill').fillna(method='ffill')\n"
     ]
    },
    {
     "name": "stdout",
     "output_type": "stream",
     "text": [
      "Grass pollen (grains/m³) - RMSE: 2.11, MAE: 0.73, R2: 0.94\n",
      "Mugwort pollen (grains/m³) - RMSE: 0.00, MAE: 0.00, R2: 1.00\n"
     ]
    },
    {
     "name": "stderr",
     "output_type": "stream",
     "text": [
      "/var/folders/q2/9lh55t_s1k56_qhpfd2m00f80000gn/T/ipykernel_921/3166904741.py:47: FutureWarning: Series.fillna with 'method' is deprecated and will raise in a future version. Use obj.ffill() or obj.bfill() instead.\n",
      "  merged_data[pollen_type] = merged_data[pollen_type].interpolate().fillna(method='bfill').fillna(method='ffill')\n",
      "/var/folders/q2/9lh55t_s1k56_qhpfd2m00f80000gn/T/ipykernel_921/3166904741.py:47: FutureWarning: Series.fillna with 'method' is deprecated and will raise in a future version. Use obj.ffill() or obj.bfill() instead.\n",
      "  merged_data[pollen_type] = merged_data[pollen_type].interpolate().fillna(method='bfill').fillna(method='ffill')\n"
     ]
    },
    {
     "name": "stdout",
     "output_type": "stream",
     "text": [
      "Olive pollen (grains/m³) - RMSE: 0.13, MAE: 0.02, R2: 0.88\n"
     ]
    },
    {
     "name": "stderr",
     "output_type": "stream",
     "text": [
      "/var/folders/q2/9lh55t_s1k56_qhpfd2m00f80000gn/T/ipykernel_921/3166904741.py:47: FutureWarning: Series.fillna with 'method' is deprecated and will raise in a future version. Use obj.ffill() or obj.bfill() instead.\n",
      "  merged_data[pollen_type] = merged_data[pollen_type].interpolate().fillna(method='bfill').fillna(method='ffill')\n"
     ]
    },
    {
     "name": "stdout",
     "output_type": "stream",
     "text": [
      "Ragweed pollen (grains/m³) - RMSE: 0.14, MAE: 0.02, R2: 0.87\n",
      "Models and results saved for valley: Valle di Rendena and copied to ValleysModels\n"
     ]
    }
   ],
   "source": [
    "import os\n",
    "import pandas as pd\n",
    "import numpy as np\n",
    "from sklearn.ensemble import RandomForestRegressor\n",
    "from sklearn.model_selection import train_test_split\n",
    "from sklearn.metrics import mean_squared_error, mean_absolute_error, r2_score\n",
    "import pickle\n",
    "\n",
    "# Directories\n",
    "valleys_data_folder = '/Users/davidegiordani/Desktop/BGTFinalCrack/MergedDataTrentinoAltoAdige2024/Valleys'\n",
    "valleys_models_folder = '/Users/davidegiordani/Desktop/BGTFinalCrack/MergedDataTrentinoAltoAdige2024/ValleysModels1'\n",
    "os.makedirs(valleys_models_folder, exist_ok=True)\n",
    "\n",
    "# Pollen columns to predict\n",
    "pollen_columns = [\n",
    "    'Alder pollen (grains/m³)', 'Birch pollen (grains/m³)', \n",
    "    'Grass pollen (grains/m³)', 'Mugwort pollen (grains/m³)', \n",
    "    'Olive pollen (grains/m³)', 'Ragweed pollen (grains/m³)'\n",
    "]\n",
    "\n",
    "# Function to preprocess and train a unified model\n",
    "def train_valley_model(valley_folder, output_folder, valley_name):\n",
    "    # Merge all municipality data\n",
    "    merged_data = pd.DataFrame()\n",
    "    municipality_files = [f for f in os.listdir(valley_folder) if f.endswith('_data.csv')]\n",
    "\n",
    "    for municipality_file in municipality_files:\n",
    "        file_path = os.path.join(valley_folder, municipality_file)\n",
    "        data = pd.read_csv(file_path)\n",
    "        data['municipality'] = municipality_file.replace('_data.csv', '')\n",
    "        merged_data = pd.concat([merged_data, data], ignore_index=True)\n",
    "\n",
    "    # Ensure 'date' column is in datetime format\n",
    "    merged_data['date'] = pd.to_datetime(merged_data['date'], errors='coerce')\n",
    "\n",
    "    # Initialize results\n",
    "    results = {}\n",
    "    models = {}\n",
    "\n",
    "    # Iterate over each pollen type\n",
    "    for pollen_type in pollen_columns:\n",
    "        if pollen_type not in merged_data.columns:\n",
    "            print(f\"Warning: {pollen_type} is missing in the dataset. Skipping...\")\n",
    "            continue\n",
    "\n",
    "        # Fill missing pollen values\n",
    "        merged_data[pollen_type] = merged_data[pollen_type].interpolate().fillna(method='bfill').fillna(method='ffill')\n",
    "\n",
    "        # Create lagged features\n",
    "        merged_data[f'{pollen_type}_lag_1'] = merged_data[pollen_type].shift(1)\n",
    "        merged_data[f'{pollen_type}_lag_2'] = merged_data[pollen_type].shift(2)\n",
    "        merged_data[f'{pollen_type}_lag_3'] = merged_data[pollen_type].shift(3)\n",
    "\n",
    "        # Drop rows with NaN values due to lagging\n",
    "        data_cleaned = merged_data.dropna()\n",
    "\n",
    "        # Define features and target\n",
    "        pollen_lagged_features = [f'{pollen_type}_lag_1', f'{pollen_type}_lag_2', f'{pollen_type}_lag_3']\n",
    "        weather_features = [col for col in merged_data.columns if col.startswith('temperature') or col.startswith('precipitation')]\n",
    "        X = data_cleaned[pollen_lagged_features + weather_features]\n",
    "        y = data_cleaned[pollen_type]\n",
    "\n",
    "        # Split data into train-test sets\n",
    "        X_train, X_test, y_train, y_test = train_test_split(X, y, test_size=0.2, random_state=42)\n",
    "\n",
    "        # Train Random Forest model\n",
    "        rf = RandomForestRegressor(random_state=42, n_estimators=100, max_depth=None)\n",
    "        rf.fit(X_train, y_train)\n",
    "\n",
    "        # Evaluate the model\n",
    "        y_pred = rf.predict(X_test)\n",
    "        rmse = np.sqrt(mean_squared_error(y_test, y_pred))\n",
    "        mae = mean_absolute_error(y_test, y_pred)\n",
    "        r2 = r2_score(y_test, y_pred)\n",
    "\n",
    "        # Save results and model\n",
    "        results[pollen_type] = {'RMSE': rmse, 'MAE': mae, 'R2': r2}\n",
    "        models[pollen_type] = rf\n",
    "\n",
    "        print(f\"{pollen_type} - RMSE: {rmse:.2f}, MAE: {mae:.2f}, R2: {r2:.2f}\")\n",
    "\n",
    "    # Save results to CSV\n",
    "    results_path = os.path.join(output_folder, f'{valley_name}_results.csv')\n",
    "    pd.DataFrame(results).T.to_csv(results_path)\n",
    "\n",
    "    # Save models to a pickle file with valley name\n",
    "    models_path = os.path.join(output_folder, f'{valley_name}_models.pkl')\n",
    "    with open(models_path, 'wb') as f:\n",
    "        pickle.dump(models, f)\n",
    "\n",
    "    # Copy models to a central folder\n",
    "    central_model_path = os.path.join(valleys_models_folder, f'{valley_name}_models.pkl')\n",
    "    with open(central_model_path, 'wb') as f:\n",
    "        pickle.dump(models, f)\n",
    "\n",
    "    print(f\"Models and results saved for valley: {valley_name} and copied to ValleysModels\")\n",
    "\n",
    "# Process all valleys\n",
    "for valley_name in os.listdir(valleys_data_folder):\n",
    "    valley_folder = os.path.join(valleys_data_folder, valley_name)\n",
    "    if os.path.isdir(valley_folder):\n",
    "        print(f\"Processing valley: {valley_name}\")\n",
    "        output_model_folder = os.path.join(valley_folder, 'Models')\n",
    "        os.makedirs(output_model_folder, exist_ok=True)\n",
    "        train_valley_model(valley_folder, output_model_folder, valley_name)\n"
   ]
  }
 ],
 "metadata": {
  "kernelspec": {
   "display_name": "ds",
   "language": "python",
   "name": "python3"
  },
  "language_info": {
   "codemirror_mode": {
    "name": "ipython",
    "version": 3
   },
   "file_extension": ".py",
   "mimetype": "text/x-python",
   "name": "python",
   "nbconvert_exporter": "python",
   "pygments_lexer": "ipython3",
   "version": "3.9.19"
  }
 },
 "nbformat": 4,
 "nbformat_minor": 2
}
